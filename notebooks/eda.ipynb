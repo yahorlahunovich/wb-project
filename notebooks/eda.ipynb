{
 "cells": [
  {
   "cell_type": "code",
   "execution_count": null,
   "metadata": {},
   "outputs": [],
   "source": [
    "import warnings\n",
    "import os\n",
    "import sys\n",
    "import pandas as pd\n",
    "import numpy as np\n",
    "import matplotlib.pyplot as plt\n",
    "import seaborn as sns\n",
    "\n",
    "\n",
    "warnings.filterwarnings('ignore')"
   ]
  },
  {
   "cell_type": "code",
   "execution_count": 22,
   "metadata": {},
   "outputs": [],
   "source": [
    "sys.path.append(os.path.abspath(os.path.join('..', 'src')))"
   ]
  },
  {
   "cell_type": "code",
   "execution_count": 23,
   "metadata": {},
   "outputs": [],
   "source": [
    "import config"
   ]
  },
  {
   "cell_type": "code",
   "execution_count": 21,
   "metadata": {},
   "outputs": [],
   "source": [
    "test = pd.read_csv(config.TEST_FILE)"
   ]
  },
  {
   "cell_type": "code",
   "execution_count": null,
   "metadata": {},
   "outputs": [],
   "source": [
    "train = pd.read_csv(config.TRAINING_FILE)"
   ]
  },
  {
   "cell_type": "code",
   "execution_count": 24,
   "metadata": {},
   "outputs": [],
   "source": [
    "contact = pd.read_csv(config.CONTACT_FILE)"
   ]
  },
  {
   "cell_type": "code",
   "execution_count": 25,
   "metadata": {},
   "outputs": [
    {
     "data": {
      "text/html": [
       "<div>\n",
       "<style scoped>\n",
       "    .dataframe tbody tr th:only-of-type {\n",
       "        vertical-align: middle;\n",
       "    }\n",
       "\n",
       "    .dataframe tbody tr th {\n",
       "        vertical-align: top;\n",
       "    }\n",
       "\n",
       "    .dataframe thead th {\n",
       "        text-align: right;\n",
       "    }\n",
       "</style>\n",
       "<table border=\"1\" class=\"dataframe\">\n",
       "  <thead>\n",
       "    <tr style=\"text-align: right;\">\n",
       "      <th></th>\n",
       "      <th>cellid</th>\n",
       "      <th>phase</th>\n",
       "      <th>order_within_phase</th>\n",
       "      <th>order</th>\n",
       "    </tr>\n",
       "  </thead>\n",
       "  <tbody>\n",
       "    <tr>\n",
       "      <th>0</th>\n",
       "      <td>SCG0088_CTATGAGGTACCGGAT-1</td>\n",
       "      <td>G1</td>\n",
       "      <td>0</td>\n",
       "      <td>0</td>\n",
       "    </tr>\n",
       "    <tr>\n",
       "      <th>1</th>\n",
       "      <td>SCG0088_GCTAAGCGTATTGGTG-1</td>\n",
       "      <td>G1</td>\n",
       "      <td>0</td>\n",
       "      <td>0</td>\n",
       "    </tr>\n",
       "    <tr>\n",
       "      <th>2</th>\n",
       "      <td>SCG0089_TCCATTGTCTGTAAGC-1</td>\n",
       "      <td>G1</td>\n",
       "      <td>0</td>\n",
       "      <td>0</td>\n",
       "    </tr>\n",
       "    <tr>\n",
       "      <th>3</th>\n",
       "      <td>SCG0092_GTTTATCTCATGCTAA-1</td>\n",
       "      <td>G1</td>\n",
       "      <td>0</td>\n",
       "      <td>0</td>\n",
       "    </tr>\n",
       "    <tr>\n",
       "      <th>4</th>\n",
       "      <td>SCG0092_AACCGCTCAGCTCATA-1</td>\n",
       "      <td>G1</td>\n",
       "      <td>0</td>\n",
       "      <td>0</td>\n",
       "    </tr>\n",
       "  </tbody>\n",
       "</table>\n",
       "</div>"
      ],
      "text/plain": [
       "                       cellid phase  order_within_phase  order\n",
       "0  SCG0088_CTATGAGGTACCGGAT-1    G1                   0      0\n",
       "1  SCG0088_GCTAAGCGTATTGGTG-1    G1                   0      0\n",
       "2  SCG0089_TCCATTGTCTGTAAGC-1    G1                   0      0\n",
       "3  SCG0092_GTTTATCTCATGCTAA-1    G1                   0      0\n",
       "4  SCG0092_AACCGCTCAGCTCATA-1    G1                   0      0"
      ]
     },
     "execution_count": 25,
     "metadata": {},
     "output_type": "execute_result"
    }
   ],
   "source": [
    "train.head()"
   ]
  },
  {
   "cell_type": "code",
   "execution_count": 26,
   "metadata": {},
   "outputs": [
    {
     "data": {
      "text/html": [
       "<div>\n",
       "<style scoped>\n",
       "    .dataframe tbody tr th:only-of-type {\n",
       "        vertical-align: middle;\n",
       "    }\n",
       "\n",
       "    .dataframe tbody tr th {\n",
       "        vertical-align: top;\n",
       "    }\n",
       "\n",
       "    .dataframe thead th {\n",
       "        text-align: right;\n",
       "    }\n",
       "</style>\n",
       "<table border=\"1\" class=\"dataframe\">\n",
       "  <thead>\n",
       "    <tr style=\"text-align: right;\">\n",
       "      <th></th>\n",
       "      <th>cellid</th>\n",
       "      <th>phase</th>\n",
       "      <th>order_within_phase</th>\n",
       "      <th>order</th>\n",
       "    </tr>\n",
       "  </thead>\n",
       "  <tbody>\n",
       "    <tr>\n",
       "      <th>0</th>\n",
       "      <td>SCG0089_CTTATGTTCCCGCCTA-1</td>\n",
       "      <td>NaN</td>\n",
       "      <td>NaN</td>\n",
       "      <td>NaN</td>\n",
       "    </tr>\n",
       "    <tr>\n",
       "      <th>1</th>\n",
       "      <td>SCG0093_AGAACCGCACAGCCAT-1</td>\n",
       "      <td>NaN</td>\n",
       "      <td>NaN</td>\n",
       "      <td>NaN</td>\n",
       "    </tr>\n",
       "    <tr>\n",
       "      <th>2</th>\n",
       "      <td>SCG0090_CCAGGATGTGCTCACC-1</td>\n",
       "      <td>NaN</td>\n",
       "      <td>NaN</td>\n",
       "      <td>NaN</td>\n",
       "    </tr>\n",
       "    <tr>\n",
       "      <th>3</th>\n",
       "      <td>SCG0089_TACCTTTAGCACTTGG-1</td>\n",
       "      <td>NaN</td>\n",
       "      <td>NaN</td>\n",
       "      <td>NaN</td>\n",
       "    </tr>\n",
       "    <tr>\n",
       "      <th>4</th>\n",
       "      <td>SCG0092_TGATCAGGTTTGAGGC-1</td>\n",
       "      <td>NaN</td>\n",
       "      <td>NaN</td>\n",
       "      <td>NaN</td>\n",
       "    </tr>\n",
       "  </tbody>\n",
       "</table>\n",
       "</div>"
      ],
      "text/plain": [
       "                       cellid  phase  order_within_phase  order\n",
       "0  SCG0089_CTTATGTTCCCGCCTA-1    NaN                 NaN    NaN\n",
       "1  SCG0093_AGAACCGCACAGCCAT-1    NaN                 NaN    NaN\n",
       "2  SCG0090_CCAGGATGTGCTCACC-1    NaN                 NaN    NaN\n",
       "3  SCG0089_TACCTTTAGCACTTGG-1    NaN                 NaN    NaN\n",
       "4  SCG0092_TGATCAGGTTTGAGGC-1    NaN                 NaN    NaN"
      ]
     },
     "execution_count": 26,
     "metadata": {},
     "output_type": "execute_result"
    }
   ],
   "source": [
    "test.head()"
   ]
  },
  {
   "cell_type": "code",
   "execution_count": 27,
   "metadata": {},
   "outputs": [
    {
     "data": {
      "text/html": [
       "<div>\n",
       "<style scoped>\n",
       "    .dataframe tbody tr th:only-of-type {\n",
       "        vertical-align: middle;\n",
       "    }\n",
       "\n",
       "    .dataframe tbody tr th {\n",
       "        vertical-align: top;\n",
       "    }\n",
       "\n",
       "    .dataframe thead th {\n",
       "        text-align: right;\n",
       "    }\n",
       "</style>\n",
       "<table border=\"1\" class=\"dataframe\">\n",
       "  <thead>\n",
       "    <tr style=\"text-align: right;\">\n",
       "      <th></th>\n",
       "      <th>chr1</th>\n",
       "      <th>start1</th>\n",
       "      <th>end1</th>\n",
       "      <th>chr2</th>\n",
       "      <th>start2</th>\n",
       "      <th>end2</th>\n",
       "      <th>cellid</th>\n",
       "    </tr>\n",
       "  </thead>\n",
       "  <tbody>\n",
       "    <tr>\n",
       "      <th>0</th>\n",
       "      <td>chr13-M</td>\n",
       "      <td>74316813</td>\n",
       "      <td>74316959</td>\n",
       "      <td>chr13-M</td>\n",
       "      <td>72727004</td>\n",
       "      <td>72727154</td>\n",
       "      <td>SCG0088_TTTAACCTCAGCCAAT-1</td>\n",
       "    </tr>\n",
       "    <tr>\n",
       "      <th>1</th>\n",
       "      <td>chr1-M</td>\n",
       "      <td>79322530</td>\n",
       "      <td>79322563</td>\n",
       "      <td>chr12-M</td>\n",
       "      <td>4538118</td>\n",
       "      <td>4538268</td>\n",
       "      <td>SCG0088_TATAGGTGTCCCGGAA-1</td>\n",
       "    </tr>\n",
       "    <tr>\n",
       "      <th>2</th>\n",
       "      <td>chr2-M</td>\n",
       "      <td>75633331</td>\n",
       "      <td>75633491</td>\n",
       "      <td>chr8-P</td>\n",
       "      <td>125695812</td>\n",
       "      <td>125695962</td>\n",
       "      <td>SCG0088_CGTTAACAGTACCGCA-1</td>\n",
       "    </tr>\n",
       "    <tr>\n",
       "      <th>3</th>\n",
       "      <td>chr7-P</td>\n",
       "      <td>136324163</td>\n",
       "      <td>136324313</td>\n",
       "      <td>chr7-P</td>\n",
       "      <td>136352442</td>\n",
       "      <td>136352592</td>\n",
       "      <td>SCG0088_TTTAACCTCAGCCAAT-1</td>\n",
       "    </tr>\n",
       "    <tr>\n",
       "      <th>4</th>\n",
       "      <td>chr6-M</td>\n",
       "      <td>49253365</td>\n",
       "      <td>49253515</td>\n",
       "      <td>chr6-M</td>\n",
       "      <td>49323546</td>\n",
       "      <td>49323680</td>\n",
       "      <td>SCG0088_CGTTAACAGTACCGCA-1</td>\n",
       "    </tr>\n",
       "  </tbody>\n",
       "</table>\n",
       "</div>"
      ],
      "text/plain": [
       "      chr1     start1       end1     chr2     start2       end2  \\\n",
       "0  chr13-M   74316813   74316959  chr13-M   72727004   72727154   \n",
       "1   chr1-M   79322530   79322563  chr12-M    4538118    4538268   \n",
       "2   chr2-M   75633331   75633491   chr8-P  125695812  125695962   \n",
       "3   chr7-P  136324163  136324313   chr7-P  136352442  136352592   \n",
       "4   chr6-M   49253365   49253515   chr6-M   49323546   49323680   \n",
       "\n",
       "                       cellid  \n",
       "0  SCG0088_TTTAACCTCAGCCAAT-1  \n",
       "1  SCG0088_TATAGGTGTCCCGGAA-1  \n",
       "2  SCG0088_CGTTAACAGTACCGCA-1  \n",
       "3  SCG0088_TTTAACCTCAGCCAAT-1  \n",
       "4  SCG0088_CGTTAACAGTACCGCA-1  "
      ]
     },
     "execution_count": 27,
     "metadata": {},
     "output_type": "execute_result"
    }
   ],
   "source": [
    "contact.head()"
   ]
  },
  {
   "cell_type": "code",
   "execution_count": 8,
   "metadata": {},
   "outputs": [
    {
     "name": "stdout",
     "output_type": "stream",
     "text": [
      "Train dataset contains 1501 rows and 4 columns.\n",
      "Test dataset contains 380 rows and 4 columns.\n",
      "Contact dataset contains 5679074 rows and 7 columns.\n"
     ]
    }
   ],
   "source": [
    "print(\n",
    "    f\"Train dataset contains {train.shape[0]} rows and {train.shape[1]} columns.\")\n",
    "print(\n",
    "    f\"Test dataset contains {test.shape[0]} rows and {test.shape[1]} columns.\")\n",
    "print(\n",
    "    f\"Contact dataset contains {contact.shape[0]} rows and {contact.shape[1]} columns.\")"
   ]
  },
  {
   "cell_type": "code",
   "execution_count": 9,
   "metadata": {},
   "outputs": [],
   "source": [
    "categorical_columns = contact.select_dtypes(include=['object']).columns\n",
    "numerical_columns = contact.select_dtypes(exclude=['object']).columns"
   ]
  },
  {
   "cell_type": "code",
   "execution_count": 10,
   "metadata": {},
   "outputs": [
    {
     "name": "stdout",
     "output_type": "stream",
     "text": [
      "\n",
      "Categorical Columns: ['chr1', 'chr2', 'cellid']\n",
      "\n",
      "Numerical Columns: ['start1', 'end1', 'start2', 'end2']\n"
     ]
    }
   ],
   "source": [
    "print(\"\\nCategorical Columns:\", categorical_columns.tolist())\n",
    "print(\"\\nNumerical Columns:\", numerical_columns.tolist())"
   ]
  },
  {
   "cell_type": "code",
   "execution_count": 15,
   "metadata": {},
   "outputs": [
    {
     "data": {
      "text/html": [
       "<div>\n",
       "<style scoped>\n",
       "    .dataframe tbody tr th:only-of-type {\n",
       "        vertical-align: middle;\n",
       "    }\n",
       "\n",
       "    .dataframe tbody tr th {\n",
       "        vertical-align: top;\n",
       "    }\n",
       "\n",
       "    .dataframe thead th {\n",
       "        text-align: right;\n",
       "    }\n",
       "</style>\n",
       "<table border=\"1\" class=\"dataframe\">\n",
       "  <thead>\n",
       "    <tr style=\"text-align: right;\">\n",
       "      <th></th>\n",
       "      <th>start1</th>\n",
       "      <th>end1</th>\n",
       "      <th>start2</th>\n",
       "      <th>end2</th>\n",
       "    </tr>\n",
       "  </thead>\n",
       "  <tbody>\n",
       "    <tr>\n",
       "      <th>count</th>\n",
       "      <td>5.679074e+06</td>\n",
       "      <td>5.679074e+06</td>\n",
       "      <td>5.679074e+06</td>\n",
       "      <td>5.679074e+06</td>\n",
       "    </tr>\n",
       "    <tr>\n",
       "      <th>mean</th>\n",
       "      <td>7.383608e+07</td>\n",
       "      <td>7.383617e+07</td>\n",
       "      <td>7.570329e+07</td>\n",
       "      <td>7.570340e+07</td>\n",
       "    </tr>\n",
       "    <tr>\n",
       "      <th>std</th>\n",
       "      <td>4.380647e+07</td>\n",
       "      <td>4.380647e+07</td>\n",
       "      <td>4.370150e+07</td>\n",
       "      <td>4.370150e+07</td>\n",
       "    </tr>\n",
       "    <tr>\n",
       "      <th>min</th>\n",
       "      <td>3.000369e+06</td>\n",
       "      <td>3.000512e+06</td>\n",
       "      <td>3.000160e+06</td>\n",
       "      <td>3.000310e+06</td>\n",
       "    </tr>\n",
       "    <tr>\n",
       "      <th>25%</th>\n",
       "      <td>3.709155e+07</td>\n",
       "      <td>3.709160e+07</td>\n",
       "      <td>3.908737e+07</td>\n",
       "      <td>3.908748e+07</td>\n",
       "    </tr>\n",
       "    <tr>\n",
       "      <th>50%</th>\n",
       "      <td>7.062205e+07</td>\n",
       "      <td>7.062216e+07</td>\n",
       "      <td>7.306120e+07</td>\n",
       "      <td>7.306132e+07</td>\n",
       "    </tr>\n",
       "    <tr>\n",
       "      <th>75%</th>\n",
       "      <td>1.057141e+08</td>\n",
       "      <td>1.057142e+08</td>\n",
       "      <td>1.084116e+08</td>\n",
       "      <td>1.084116e+08</td>\n",
       "    </tr>\n",
       "    <tr>\n",
       "      <th>max</th>\n",
       "      <td>1.953716e+08</td>\n",
       "      <td>1.953717e+08</td>\n",
       "      <td>1.953715e+08</td>\n",
       "      <td>1.953715e+08</td>\n",
       "    </tr>\n",
       "  </tbody>\n",
       "</table>\n",
       "</div>"
      ],
      "text/plain": [
       "             start1          end1        start2          end2\n",
       "count  5.679074e+06  5.679074e+06  5.679074e+06  5.679074e+06\n",
       "mean   7.383608e+07  7.383617e+07  7.570329e+07  7.570340e+07\n",
       "std    4.380647e+07  4.380647e+07  4.370150e+07  4.370150e+07\n",
       "min    3.000369e+06  3.000512e+06  3.000160e+06  3.000310e+06\n",
       "25%    3.709155e+07  3.709160e+07  3.908737e+07  3.908748e+07\n",
       "50%    7.062205e+07  7.062216e+07  7.306120e+07  7.306132e+07\n",
       "75%    1.057141e+08  1.057142e+08  1.084116e+08  1.084116e+08\n",
       "max    1.953716e+08  1.953717e+08  1.953715e+08  1.953715e+08"
      ]
     },
     "execution_count": 15,
     "metadata": {},
     "output_type": "execute_result"
    }
   ],
   "source": [
    "contact.describe()"
   ]
  },
  {
   "cell_type": "code",
   "execution_count": 25,
   "metadata": {},
   "outputs": [
    {
     "data": {
      "text/plain": [
       "chr1      0\n",
       "start1    0\n",
       "end1      0\n",
       "chr2      0\n",
       "start2    0\n",
       "end2      0\n",
       "cellid    0\n",
       "dtype: int64"
      ]
     },
     "execution_count": 25,
     "metadata": {},
     "output_type": "execute_result"
    }
   ],
   "source": [
    "contact.isnull().sum()"
   ]
  },
  {
   "cell_type": "markdown",
   "metadata": {},
   "source": [
    "## Contact dataset dictionary:\n",
    "\n",
    "- **cellid**: Unique identifier for the cell (matches train/test data)\n",
    "- **chr1**: Chromosome/location of the first region (e.g., chr13-M, chr7-P)\n",
    "- **chr2**: Chromosome/location of the second region\n",
    "- **start1/end1**: Genomic coordinates for the first region\n",
    "- **start2/end2**: Genomic coordinates for the second region"
   ]
  },
  {
   "cell_type": "code",
   "execution_count": null,
   "metadata": {},
   "outputs": [
    {
     "data": {
      "text/plain": [
       "array(['chr13-M', 'chr1-M', 'chr2-M', 'chr7-P', 'chr6-M', 'chr16-P',\n",
       "       'chr2-P', 'chr10-P', 'chr11-M', 'chr1-P', 'chr13-P', 'chr6-P',\n",
       "       'chrX-M', 'chr8-P', 'chr3-P', 'chr3-M', 'chr5-P', 'chr16-M',\n",
       "       'chr15-P', 'chr12-P', 'chr4-M', 'chr10-M', 'chr18-M', 'chr11-P',\n",
       "       'chr5-M', 'chrX-P', 'chr15-M', 'chr14-P', 'chr19-P', 'chr7-M',\n",
       "       'chr19-M', 'chr17-P', 'chr9-M', 'chr8-M', 'chr14-M', 'chr17-M',\n",
       "       'chr9-P', 'chr12-M', 'chr18-P', 'chr4-P'], dtype=object)"
      ]
     },
     "execution_count": 20,
     "metadata": {},
     "output_type": "execute_result"
    }
   ],
   "source": [
    "contact[\"chr1\"].unique()"
   ]
  },
  {
   "cell_type": "code",
   "execution_count": 21,
   "metadata": {},
   "outputs": [
    {
     "name": "stdout",
     "output_type": "stream",
     "text": [
      "40\n"
     ]
    }
   ],
   "source": [
    "print(len(contact[\"chr1\"].unique()))"
   ]
  },
  {
   "cell_type": "code",
   "execution_count": 23,
   "metadata": {},
   "outputs": [
    {
     "name": "stdout",
     "output_type": "stream",
     "text": [
      "40\n"
     ]
    }
   ],
   "source": [
    "print(len(contact[\"chr2\"].unique()))"
   ]
  },
  {
   "cell_type": "code",
   "execution_count": 26,
   "metadata": {},
   "outputs": [
    {
     "data": {
      "text/plain": [
       "1881"
      ]
     },
     "execution_count": 26,
     "metadata": {},
     "output_type": "execute_result"
    }
   ],
   "source": [
    "len(contact[\"cellid\"].unique())"
   ]
  },
  {
   "cell_type": "code",
   "execution_count": null,
   "metadata": {},
   "outputs": [],
   "source": []
  }
 ],
 "metadata": {
  "kernelspec": {
   "display_name": "base",
   "language": "python",
   "name": "python3"
  },
  "language_info": {
   "codemirror_mode": {
    "name": "ipython",
    "version": 3
   },
   "file_extension": ".py",
   "mimetype": "text/x-python",
   "name": "python",
   "nbconvert_exporter": "python",
   "pygments_lexer": "ipython3",
   "version": "3.11.5"
  }
 },
 "nbformat": 4,
 "nbformat_minor": 2
}
