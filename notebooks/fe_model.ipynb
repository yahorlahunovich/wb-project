{
 "cells": [
  {
   "cell_type": "code",
   "execution_count": 63,
   "metadata": {},
   "outputs": [],
   "source": [
    "import warnings\n",
    "from sklearn.model_selection import train_test_split, StratifiedKFold\n",
    "from sklearn.metrics import accuracy_score\n",
    "from sklearn.preprocessing import LabelEncoder\n",
    "import lightgbm as lgb\n",
    "from xgboost import XGBClassifier\n",
    "import matplotlib.pyplot as plt\n",
    "import seaborn as sns\n",
    "import pandas as pd\n",
    "import numpy as np\n",
    "import os\n",
    "import sys\n",
    "import optuna\n",
    "\n",
    "\n",
    "warnings.filterwarnings('ignore')"
   ]
  },
  {
   "cell_type": "code",
   "execution_count": 2,
   "metadata": {},
   "outputs": [],
   "source": [
    "sys.path.append(os.path.abspath(os.path.join('..', 'src')))"
   ]
  },
  {
   "cell_type": "code",
   "execution_count": 3,
   "metadata": {},
   "outputs": [],
   "source": [
    "import config"
   ]
  },
  {
   "cell_type": "code",
   "execution_count": 102,
   "metadata": {},
   "outputs": [],
   "source": [
    "test = pd.read_csv(config.TEST_FILE)\n",
    "train = pd.read_csv(config.TRAINING_FILE)\n",
    "contact = pd.read_csv(config.CONTACT_FILE)"
   ]
  },
  {
   "cell_type": "code",
   "execution_count": 103,
   "metadata": {},
   "outputs": [
    {
     "data": {
      "text/html": [
       "<div>\n",
       "<style scoped>\n",
       "    .dataframe tbody tr th:only-of-type {\n",
       "        vertical-align: middle;\n",
       "    }\n",
       "\n",
       "    .dataframe tbody tr th {\n",
       "        vertical-align: top;\n",
       "    }\n",
       "\n",
       "    .dataframe thead th {\n",
       "        text-align: right;\n",
       "    }\n",
       "</style>\n",
       "<table border=\"1\" class=\"dataframe\">\n",
       "  <thead>\n",
       "    <tr style=\"text-align: right;\">\n",
       "      <th></th>\n",
       "      <th>cellid</th>\n",
       "      <th>phase</th>\n",
       "      <th>order_within_phase</th>\n",
       "      <th>order</th>\n",
       "    </tr>\n",
       "  </thead>\n",
       "  <tbody>\n",
       "    <tr>\n",
       "      <th>0</th>\n",
       "      <td>SCG0088_CTATGAGGTACCGGAT-1</td>\n",
       "      <td>G1</td>\n",
       "      <td>0</td>\n",
       "      <td>0</td>\n",
       "    </tr>\n",
       "    <tr>\n",
       "      <th>1</th>\n",
       "      <td>SCG0088_GCTAAGCGTATTGGTG-1</td>\n",
       "      <td>G1</td>\n",
       "      <td>0</td>\n",
       "      <td>0</td>\n",
       "    </tr>\n",
       "    <tr>\n",
       "      <th>2</th>\n",
       "      <td>SCG0089_TCCATTGTCTGTAAGC-1</td>\n",
       "      <td>G1</td>\n",
       "      <td>0</td>\n",
       "      <td>0</td>\n",
       "    </tr>\n",
       "    <tr>\n",
       "      <th>3</th>\n",
       "      <td>SCG0092_GTTTATCTCATGCTAA-1</td>\n",
       "      <td>G1</td>\n",
       "      <td>0</td>\n",
       "      <td>0</td>\n",
       "    </tr>\n",
       "    <tr>\n",
       "      <th>4</th>\n",
       "      <td>SCG0092_AACCGCTCAGCTCATA-1</td>\n",
       "      <td>G1</td>\n",
       "      <td>0</td>\n",
       "      <td>0</td>\n",
       "    </tr>\n",
       "  </tbody>\n",
       "</table>\n",
       "</div>"
      ],
      "text/plain": [
       "                       cellid phase  order_within_phase  order\n",
       "0  SCG0088_CTATGAGGTACCGGAT-1    G1                   0      0\n",
       "1  SCG0088_GCTAAGCGTATTGGTG-1    G1                   0      0\n",
       "2  SCG0089_TCCATTGTCTGTAAGC-1    G1                   0      0\n",
       "3  SCG0092_GTTTATCTCATGCTAA-1    G1                   0      0\n",
       "4  SCG0092_AACCGCTCAGCTCATA-1    G1                   0      0"
      ]
     },
     "execution_count": 103,
     "metadata": {},
     "output_type": "execute_result"
    }
   ],
   "source": [
    "train.head()"
   ]
  },
  {
   "cell_type": "code",
   "execution_count": 104,
   "metadata": {},
   "outputs": [
    {
     "data": {
      "text/plain": [
       "array([ 0,  1,  2,  3,  4,  5,  6,  7,  8,  9, 10, 11, 12, 13, 14, 15, 16,\n",
       "       17, 18, 19, 21, 22, 23, 24, 25, 26, 27, 28, 29, 30, 32, 33, 34, 35,\n",
       "       36, 37, 38, 39, 40, 41, 42, 43])"
      ]
     },
     "execution_count": 104,
     "metadata": {},
     "output_type": "execute_result"
    }
   ],
   "source": [
    "train[\"order\"].unique()"
   ]
  },
  {
   "cell_type": "code",
   "execution_count": 105,
   "metadata": {},
   "outputs": [
    {
     "data": {
      "text/plain": [
       "array([ 0,  1,  2,  3,  4,  5,  6,  7,  8,  9, 10, 11, 12, 13, 14, 15, 16,\n",
       "       17, 18, 19])"
      ]
     },
     "execution_count": 105,
     "metadata": {},
     "output_type": "execute_result"
    }
   ],
   "source": [
    "train[\"order_within_phase\"].unique()"
   ]
  },
  {
   "cell_type": "code",
   "execution_count": 106,
   "metadata": {},
   "outputs": [
    {
     "data": {
      "text/html": [
       "<div>\n",
       "<style scoped>\n",
       "    .dataframe tbody tr th:only-of-type {\n",
       "        vertical-align: middle;\n",
       "    }\n",
       "\n",
       "    .dataframe tbody tr th {\n",
       "        vertical-align: top;\n",
       "    }\n",
       "\n",
       "    .dataframe thead th {\n",
       "        text-align: right;\n",
       "    }\n",
       "</style>\n",
       "<table border=\"1\" class=\"dataframe\">\n",
       "  <thead>\n",
       "    <tr style=\"text-align: right;\">\n",
       "      <th></th>\n",
       "      <th>cellid</th>\n",
       "      <th>phase</th>\n",
       "      <th>order_within_phase</th>\n",
       "      <th>order</th>\n",
       "    </tr>\n",
       "  </thead>\n",
       "  <tbody>\n",
       "    <tr>\n",
       "      <th>0</th>\n",
       "      <td>SCG0089_CTTATGTTCCCGCCTA-1</td>\n",
       "      <td>NaN</td>\n",
       "      <td>NaN</td>\n",
       "      <td>NaN</td>\n",
       "    </tr>\n",
       "    <tr>\n",
       "      <th>1</th>\n",
       "      <td>SCG0093_AGAACCGCACAGCCAT-1</td>\n",
       "      <td>NaN</td>\n",
       "      <td>NaN</td>\n",
       "      <td>NaN</td>\n",
       "    </tr>\n",
       "    <tr>\n",
       "      <th>2</th>\n",
       "      <td>SCG0090_CCAGGATGTGCTCACC-1</td>\n",
       "      <td>NaN</td>\n",
       "      <td>NaN</td>\n",
       "      <td>NaN</td>\n",
       "    </tr>\n",
       "    <tr>\n",
       "      <th>3</th>\n",
       "      <td>SCG0089_TACCTTTAGCACTTGG-1</td>\n",
       "      <td>NaN</td>\n",
       "      <td>NaN</td>\n",
       "      <td>NaN</td>\n",
       "    </tr>\n",
       "    <tr>\n",
       "      <th>4</th>\n",
       "      <td>SCG0092_TGATCAGGTTTGAGGC-1</td>\n",
       "      <td>NaN</td>\n",
       "      <td>NaN</td>\n",
       "      <td>NaN</td>\n",
       "    </tr>\n",
       "  </tbody>\n",
       "</table>\n",
       "</div>"
      ],
      "text/plain": [
       "                       cellid  phase  order_within_phase  order\n",
       "0  SCG0089_CTTATGTTCCCGCCTA-1    NaN                 NaN    NaN\n",
       "1  SCG0093_AGAACCGCACAGCCAT-1    NaN                 NaN    NaN\n",
       "2  SCG0090_CCAGGATGTGCTCACC-1    NaN                 NaN    NaN\n",
       "3  SCG0089_TACCTTTAGCACTTGG-1    NaN                 NaN    NaN\n",
       "4  SCG0092_TGATCAGGTTTGAGGC-1    NaN                 NaN    NaN"
      ]
     },
     "execution_count": 106,
     "metadata": {},
     "output_type": "execute_result"
    }
   ],
   "source": [
    "test.head()"
   ]
  },
  {
   "cell_type": "code",
   "execution_count": 107,
   "metadata": {},
   "outputs": [
    {
     "data": {
      "text/html": [
       "<div>\n",
       "<style scoped>\n",
       "    .dataframe tbody tr th:only-of-type {\n",
       "        vertical-align: middle;\n",
       "    }\n",
       "\n",
       "    .dataframe tbody tr th {\n",
       "        vertical-align: top;\n",
       "    }\n",
       "\n",
       "    .dataframe thead th {\n",
       "        text-align: right;\n",
       "    }\n",
       "</style>\n",
       "<table border=\"1\" class=\"dataframe\">\n",
       "  <thead>\n",
       "    <tr style=\"text-align: right;\">\n",
       "      <th></th>\n",
       "      <th>chr1</th>\n",
       "      <th>start1</th>\n",
       "      <th>end1</th>\n",
       "      <th>chr2</th>\n",
       "      <th>start2</th>\n",
       "      <th>end2</th>\n",
       "      <th>cellid</th>\n",
       "    </tr>\n",
       "  </thead>\n",
       "  <tbody>\n",
       "    <tr>\n",
       "      <th>0</th>\n",
       "      <td>chr13-M</td>\n",
       "      <td>74316813</td>\n",
       "      <td>74316959</td>\n",
       "      <td>chr13-M</td>\n",
       "      <td>72727004</td>\n",
       "      <td>72727154</td>\n",
       "      <td>SCG0088_TTTAACCTCAGCCAAT-1</td>\n",
       "    </tr>\n",
       "    <tr>\n",
       "      <th>1</th>\n",
       "      <td>chr1-M</td>\n",
       "      <td>79322530</td>\n",
       "      <td>79322563</td>\n",
       "      <td>chr12-M</td>\n",
       "      <td>4538118</td>\n",
       "      <td>4538268</td>\n",
       "      <td>SCG0088_TATAGGTGTCCCGGAA-1</td>\n",
       "    </tr>\n",
       "    <tr>\n",
       "      <th>2</th>\n",
       "      <td>chr2-M</td>\n",
       "      <td>75633331</td>\n",
       "      <td>75633491</td>\n",
       "      <td>chr8-P</td>\n",
       "      <td>125695812</td>\n",
       "      <td>125695962</td>\n",
       "      <td>SCG0088_CGTTAACAGTACCGCA-1</td>\n",
       "    </tr>\n",
       "    <tr>\n",
       "      <th>3</th>\n",
       "      <td>chr7-P</td>\n",
       "      <td>136324163</td>\n",
       "      <td>136324313</td>\n",
       "      <td>chr7-P</td>\n",
       "      <td>136352442</td>\n",
       "      <td>136352592</td>\n",
       "      <td>SCG0088_TTTAACCTCAGCCAAT-1</td>\n",
       "    </tr>\n",
       "    <tr>\n",
       "      <th>4</th>\n",
       "      <td>chr6-M</td>\n",
       "      <td>49253365</td>\n",
       "      <td>49253515</td>\n",
       "      <td>chr6-M</td>\n",
       "      <td>49323546</td>\n",
       "      <td>49323680</td>\n",
       "      <td>SCG0088_CGTTAACAGTACCGCA-1</td>\n",
       "    </tr>\n",
       "  </tbody>\n",
       "</table>\n",
       "</div>"
      ],
      "text/plain": [
       "      chr1     start1       end1     chr2     start2       end2  \\\n",
       "0  chr13-M   74316813   74316959  chr13-M   72727004   72727154   \n",
       "1   chr1-M   79322530   79322563  chr12-M    4538118    4538268   \n",
       "2   chr2-M   75633331   75633491   chr8-P  125695812  125695962   \n",
       "3   chr7-P  136324163  136324313   chr7-P  136352442  136352592   \n",
       "4   chr6-M   49253365   49253515   chr6-M   49323546   49323680   \n",
       "\n",
       "                       cellid  \n",
       "0  SCG0088_TTTAACCTCAGCCAAT-1  \n",
       "1  SCG0088_TATAGGTGTCCCGGAA-1  \n",
       "2  SCG0088_CGTTAACAGTACCGCA-1  \n",
       "3  SCG0088_TTTAACCTCAGCCAAT-1  \n",
       "4  SCG0088_CGTTAACAGTACCGCA-1  "
      ]
     },
     "execution_count": 107,
     "metadata": {},
     "output_type": "execute_result"
    }
   ],
   "source": [
    "contact.head()"
   ]
  },
  {
   "cell_type": "code",
   "execution_count": 108,
   "metadata": {},
   "outputs": [
    {
     "name": "stdout",
     "output_type": "stream",
     "text": [
      "(5679074, 7)\n"
     ]
    }
   ],
   "source": [
    "print(contact.shape)\n",
    "total_contacts = contact.shape[0]"
   ]
  },
  {
   "cell_type": "markdown",
   "metadata": {},
   "source": [
    "## Feature Engineering"
   ]
  },
  {
   "cell_type": "code",
   "execution_count": 109,
   "metadata": {},
   "outputs": [
    {
     "data": {
      "text/html": [
       "<div>\n",
       "<style scoped>\n",
       "    .dataframe tbody tr th:only-of-type {\n",
       "        vertical-align: middle;\n",
       "    }\n",
       "\n",
       "    .dataframe tbody tr th {\n",
       "        vertical-align: top;\n",
       "    }\n",
       "\n",
       "    .dataframe thead th {\n",
       "        text-align: right;\n",
       "    }\n",
       "</style>\n",
       "<table border=\"1\" class=\"dataframe\">\n",
       "  <thead>\n",
       "    <tr style=\"text-align: right;\">\n",
       "      <th></th>\n",
       "      <th>chr1</th>\n",
       "      <th>start1</th>\n",
       "      <th>end1</th>\n",
       "      <th>chr2</th>\n",
       "      <th>start2</th>\n",
       "      <th>end2</th>\n",
       "      <th>cellid</th>\n",
       "    </tr>\n",
       "  </thead>\n",
       "  <tbody>\n",
       "    <tr>\n",
       "      <th>0</th>\n",
       "      <td>chr13-M</td>\n",
       "      <td>74316813</td>\n",
       "      <td>74316959</td>\n",
       "      <td>chr13-M</td>\n",
       "      <td>72727004</td>\n",
       "      <td>72727154</td>\n",
       "      <td>SCG0088_TTTAACCTCAGCCAAT-1</td>\n",
       "    </tr>\n",
       "    <tr>\n",
       "      <th>1</th>\n",
       "      <td>chr1-M</td>\n",
       "      <td>79322530</td>\n",
       "      <td>79322563</td>\n",
       "      <td>chr12-M</td>\n",
       "      <td>4538118</td>\n",
       "      <td>4538268</td>\n",
       "      <td>SCG0088_TATAGGTGTCCCGGAA-1</td>\n",
       "    </tr>\n",
       "    <tr>\n",
       "      <th>2</th>\n",
       "      <td>chr2-M</td>\n",
       "      <td>75633331</td>\n",
       "      <td>75633491</td>\n",
       "      <td>chr8-P</td>\n",
       "      <td>125695812</td>\n",
       "      <td>125695962</td>\n",
       "      <td>SCG0088_CGTTAACAGTACCGCA-1</td>\n",
       "    </tr>\n",
       "    <tr>\n",
       "      <th>3</th>\n",
       "      <td>chr7-P</td>\n",
       "      <td>136324163</td>\n",
       "      <td>136324313</td>\n",
       "      <td>chr7-P</td>\n",
       "      <td>136352442</td>\n",
       "      <td>136352592</td>\n",
       "      <td>SCG0088_TTTAACCTCAGCCAAT-1</td>\n",
       "    </tr>\n",
       "    <tr>\n",
       "      <th>4</th>\n",
       "      <td>chr6-M</td>\n",
       "      <td>49253365</td>\n",
       "      <td>49253515</td>\n",
       "      <td>chr6-M</td>\n",
       "      <td>49323546</td>\n",
       "      <td>49323680</td>\n",
       "      <td>SCG0088_CGTTAACAGTACCGCA-1</td>\n",
       "    </tr>\n",
       "  </tbody>\n",
       "</table>\n",
       "</div>"
      ],
      "text/plain": [
       "      chr1     start1       end1     chr2     start2       end2  \\\n",
       "0  chr13-M   74316813   74316959  chr13-M   72727004   72727154   \n",
       "1   chr1-M   79322530   79322563  chr12-M    4538118    4538268   \n",
       "2   chr2-M   75633331   75633491   chr8-P  125695812  125695962   \n",
       "3   chr7-P  136324163  136324313   chr7-P  136352442  136352592   \n",
       "4   chr6-M   49253365   49253515   chr6-M   49323546   49323680   \n",
       "\n",
       "                       cellid  \n",
       "0  SCG0088_TTTAACCTCAGCCAAT-1  \n",
       "1  SCG0088_TATAGGTGTCCCGGAA-1  \n",
       "2  SCG0088_CGTTAACAGTACCGCA-1  \n",
       "3  SCG0088_TTTAACCTCAGCCAAT-1  \n",
       "4  SCG0088_CGTTAACAGTACCGCA-1  "
      ]
     },
     "execution_count": 109,
     "metadata": {},
     "output_type": "execute_result"
    }
   ],
   "source": [
    "contact.head()"
   ]
  },
  {
   "cell_type": "code",
   "execution_count": 110,
   "metadata": {},
   "outputs": [],
   "source": [
    "contact[\"is_m_chr1\"] = contact[\"chr1\"].str.endswith(\"M\").astype(int)\n",
    "contact[\"is_m_chr2\"] = contact[\"chr2\"].str.endswith(\"M\").astype(int)\n",
    "\n",
    "contact[\"length1\"] = contact[\"end1\"] - contact[\"start1\"]\n",
    "contact[\"length2\"] = contact[\"end2\"] - contact[\"start2\"]\n",
    "\n",
    "chr1_chr2_contacts = contact.groupby(\n",
    "    \"chr1\")[\"chr2\"].size().rename(\"chr1_chr2_count\")\n",
    "chr2_chr1_contacts = contact.groupby(\n",
    "    \"chr2\")[\"chr1\"].size().rename(\"chr2_chr1_count\")\n",
    "contact = contact.merge(chr1_chr2_contacts, on=\"chr1\", how=\"left\")\n",
    "contact = contact.merge(chr2_chr1_contacts, on=\"chr2\", how=\"left\")\n",
    "\n",
    "contact[\"start_distance\"] = contact[\"start1\"] - contact[\"start2\"]\n",
    "contact[\"end_distance\"] = contact[\"end1\"] - contact[\"end2\"]\n",
    "contact[\"abs_start_distance\"] = contact[\"start_distance\"].abs()\n",
    "contact[\"abs_end_distance\"] = contact[\"end_distance\"].abs()\n",
    "\n",
    "contact[\"length_ratio\"] = contact[\"length1\"] / (contact[\"length2\"] + 1e-5)\n",
    "\n",
    "contact[\"intra_contact\"] = (contact[\"chr1\"] == contact[\"chr2\"]).astype(int)\n",
    "contact[\"inter_contact\"] = (contact[\"chr1\"] != contact[\"chr2\"]).astype(int)\n",
    "\n",
    "agg_features = contact.groupby(\"cellid\").agg(\n",
    "    total_contacts=(\"chr1\", \"count\"),\n",
    "    median_start_distance=(\"start_distance\", \"median\"),\n",
    "    median_end_distance=(\"end_distance\", \"median\"),\n",
    "    min_start_distance=(\"start_distance\", \"min\"),\n",
    "    min_end_distance=(\"end_distance\", \"min\"),\n",
    "    max_start_distance=(\"start_distance\", \"max\"),\n",
    "    max_end_distance=(\"end_distance\", \"max\"),\n",
    "    std_start_distance=(\"start_distance\", \"std\"),\n",
    "    std_end_distance=(\"end_distance\", \"std\"),\n",
    "    median_abs_start_distance=(\"abs_start_distance\", \"median\"),\n",
    "    median_abs_end_distance=(\"abs_end_distance\", \"median\"),\n",
    "    median_length1=(\"length1\", \"median\"),\n",
    "    median_length2=(\"length2\", \"median\"),\n",
    "    mean_length1=(\"length1\", \"mean\"),\n",
    "    mean_length2=(\"length2\", \"mean\"),\n",
    "    sum_is_m_chr1=(\"is_m_chr1\", \"sum\"),\n",
    "    sum_is_m_chr2=(\"is_m_chr2\", \"sum\"),\n",
    "    mean_chr1_chr2_count=(\"chr1_chr2_count\", \"mean\"),\n",
    "    std_chr1_chr2_count=(\"chr1_chr2_count\", \"std\"),\n",
    "    mean_chr2_chr1_count=(\"chr2_chr1_count\", \"mean\"),\n",
    "    std_chr2_chr1_count=(\"chr2_chr1_count\", \"std\"),\n",
    "    intra_contacts=(\"intra_contact\", \"sum\"),\n",
    "    inter_contacts=(\"inter_contact\", \"sum\"),\n",
    "    median_length_ratio=(\"length_ratio\", \"median\"),\n",
    "    mean_length_ratio=(\"length_ratio\", \"mean\")\n",
    ").fillna(0)\n",
    "\n",
    "agg_features[\"ratio_intra\"] = agg_features[\"intra_contacts\"] / \\\n",
    "    agg_features[\"total_contacts\"]\n",
    "agg_features[\"ratio_inter\"] = agg_features[\"inter_contacts\"] / \\\n",
    "    agg_features[\"total_contacts\"]\n",
    "agg_features[\"ratio_m_chr1\"] = agg_features[\"sum_is_m_chr1\"] / \\\n",
    "    agg_features[\"total_contacts\"]\n",
    "agg_features[\"ratio_m_chr2\"] = agg_features[\"sum_is_m_chr2\"] / \\\n",
    "    agg_features[\"total_contacts\"]\n",
    "\n",
    "train = train.merge(agg_features, on=\"cellid\", how=\"left\")\n",
    "test = test.merge(agg_features, on=\"cellid\", how=\"left\")"
   ]
  },
  {
   "cell_type": "code",
   "execution_count": 111,
   "metadata": {},
   "outputs": [
    {
     "data": {
      "text/html": [
       "<div>\n",
       "<style scoped>\n",
       "    .dataframe tbody tr th:only-of-type {\n",
       "        vertical-align: middle;\n",
       "    }\n",
       "\n",
       "    .dataframe tbody tr th {\n",
       "        vertical-align: top;\n",
       "    }\n",
       "\n",
       "    .dataframe thead th {\n",
       "        text-align: right;\n",
       "    }\n",
       "</style>\n",
       "<table border=\"1\" class=\"dataframe\">\n",
       "  <thead>\n",
       "    <tr style=\"text-align: right;\">\n",
       "      <th></th>\n",
       "      <th>cellid</th>\n",
       "      <th>phase</th>\n",
       "      <th>order_within_phase</th>\n",
       "      <th>order</th>\n",
       "      <th>total_contacts</th>\n",
       "      <th>median_start_distance</th>\n",
       "      <th>median_end_distance</th>\n",
       "      <th>min_start_distance</th>\n",
       "      <th>min_end_distance</th>\n",
       "      <th>max_start_distance</th>\n",
       "      <th>...</th>\n",
       "      <th>mean_chr2_chr1_count</th>\n",
       "      <th>std_chr2_chr1_count</th>\n",
       "      <th>intra_contacts</th>\n",
       "      <th>inter_contacts</th>\n",
       "      <th>median_length_ratio</th>\n",
       "      <th>mean_length_ratio</th>\n",
       "      <th>ratio_intra</th>\n",
       "      <th>ratio_inter</th>\n",
       "      <th>ratio_m_chr1</th>\n",
       "      <th>ratio_m_chr2</th>\n",
       "    </tr>\n",
       "  </thead>\n",
       "  <tbody>\n",
       "    <tr>\n",
       "      <th>0</th>\n",
       "      <td>SCG0088_CTATGAGGTACCGGAT-1</td>\n",
       "      <td>G1</td>\n",
       "      <td>0</td>\n",
       "      <td>0</td>\n",
       "      <td>2544</td>\n",
       "      <td>-3083.5</td>\n",
       "      <td>-3136.0</td>\n",
       "      <td>-157735287</td>\n",
       "      <td>-157735390</td>\n",
       "      <td>138895729</td>\n",
       "      <td>...</td>\n",
       "      <td>169921.310142</td>\n",
       "      <td>81955.221815</td>\n",
       "      <td>2272</td>\n",
       "      <td>272</td>\n",
       "      <td>0.840245</td>\n",
       "      <td>1.174423</td>\n",
       "      <td>0.893082</td>\n",
       "      <td>0.106918</td>\n",
       "      <td>0.429245</td>\n",
       "      <td>0.420597</td>\n",
       "    </tr>\n",
       "    <tr>\n",
       "      <th>1</th>\n",
       "      <td>SCG0088_GCTAAGCGTATTGGTG-1</td>\n",
       "      <td>G1</td>\n",
       "      <td>0</td>\n",
       "      <td>0</td>\n",
       "      <td>2245</td>\n",
       "      <td>-828.0</td>\n",
       "      <td>-896.0</td>\n",
       "      <td>-145560608</td>\n",
       "      <td>-145560516</td>\n",
       "      <td>162532950</td>\n",
       "      <td>...</td>\n",
       "      <td>167178.631626</td>\n",
       "      <td>68116.136704</td>\n",
       "      <td>1981</td>\n",
       "      <td>264</td>\n",
       "      <td>0.564516</td>\n",
       "      <td>1.153988</td>\n",
       "      <td>0.882405</td>\n",
       "      <td>0.117595</td>\n",
       "      <td>0.452561</td>\n",
       "      <td>0.444098</td>\n",
       "    </tr>\n",
       "    <tr>\n",
       "      <th>2</th>\n",
       "      <td>SCG0089_TCCATTGTCTGTAAGC-1</td>\n",
       "      <td>G1</td>\n",
       "      <td>0</td>\n",
       "      <td>0</td>\n",
       "      <td>2038</td>\n",
       "      <td>-1204.0</td>\n",
       "      <td>-1251.0</td>\n",
       "      <td>-148714493</td>\n",
       "      <td>-148714367</td>\n",
       "      <td>162097207</td>\n",
       "      <td>...</td>\n",
       "      <td>164929.056919</td>\n",
       "      <td>70929.047838</td>\n",
       "      <td>1798</td>\n",
       "      <td>240</td>\n",
       "      <td>0.601887</td>\n",
       "      <td>1.197960</td>\n",
       "      <td>0.882237</td>\n",
       "      <td>0.117763</td>\n",
       "      <td>0.484789</td>\n",
       "      <td>0.481845</td>\n",
       "    </tr>\n",
       "    <tr>\n",
       "      <th>3</th>\n",
       "      <td>SCG0092_GTTTATCTCATGCTAA-1</td>\n",
       "      <td>G1</td>\n",
       "      <td>0</td>\n",
       "      <td>0</td>\n",
       "      <td>4164</td>\n",
       "      <td>-2022.0</td>\n",
       "      <td>-2056.0</td>\n",
       "      <td>-162678755</td>\n",
       "      <td>-162678683</td>\n",
       "      <td>183634905</td>\n",
       "      <td>...</td>\n",
       "      <td>163697.983670</td>\n",
       "      <td>69579.426225</td>\n",
       "      <td>3733</td>\n",
       "      <td>431</td>\n",
       "      <td>0.682372</td>\n",
       "      <td>1.135773</td>\n",
       "      <td>0.896494</td>\n",
       "      <td>0.103506</td>\n",
       "      <td>0.515610</td>\n",
       "      <td>0.516090</td>\n",
       "    </tr>\n",
       "    <tr>\n",
       "      <th>4</th>\n",
       "      <td>SCG0092_AACCGCTCAGCTCATA-1</td>\n",
       "      <td>G1</td>\n",
       "      <td>0</td>\n",
       "      <td>0</td>\n",
       "      <td>2451</td>\n",
       "      <td>-980.0</td>\n",
       "      <td>-1006.0</td>\n",
       "      <td>-155115912</td>\n",
       "      <td>-155115912</td>\n",
       "      <td>165218506</td>\n",
       "      <td>...</td>\n",
       "      <td>169955.085679</td>\n",
       "      <td>72591.043953</td>\n",
       "      <td>2086</td>\n",
       "      <td>365</td>\n",
       "      <td>0.659794</td>\n",
       "      <td>1.273627</td>\n",
       "      <td>0.851081</td>\n",
       "      <td>0.148919</td>\n",
       "      <td>0.459404</td>\n",
       "      <td>0.455732</td>\n",
       "    </tr>\n",
       "  </tbody>\n",
       "</table>\n",
       "<p>5 rows × 33 columns</p>\n",
       "</div>"
      ],
      "text/plain": [
       "                       cellid phase  order_within_phase  order  \\\n",
       "0  SCG0088_CTATGAGGTACCGGAT-1    G1                   0      0   \n",
       "1  SCG0088_GCTAAGCGTATTGGTG-1    G1                   0      0   \n",
       "2  SCG0089_TCCATTGTCTGTAAGC-1    G1                   0      0   \n",
       "3  SCG0092_GTTTATCTCATGCTAA-1    G1                   0      0   \n",
       "4  SCG0092_AACCGCTCAGCTCATA-1    G1                   0      0   \n",
       "\n",
       "   total_contacts  median_start_distance  median_end_distance  \\\n",
       "0            2544                -3083.5              -3136.0   \n",
       "1            2245                 -828.0               -896.0   \n",
       "2            2038                -1204.0              -1251.0   \n",
       "3            4164                -2022.0              -2056.0   \n",
       "4            2451                 -980.0              -1006.0   \n",
       "\n",
       "   min_start_distance  min_end_distance  max_start_distance  ...  \\\n",
       "0          -157735287        -157735390           138895729  ...   \n",
       "1          -145560608        -145560516           162532950  ...   \n",
       "2          -148714493        -148714367           162097207  ...   \n",
       "3          -162678755        -162678683           183634905  ...   \n",
       "4          -155115912        -155115912           165218506  ...   \n",
       "\n",
       "   mean_chr2_chr1_count  std_chr2_chr1_count  intra_contacts  inter_contacts  \\\n",
       "0         169921.310142         81955.221815            2272             272   \n",
       "1         167178.631626         68116.136704            1981             264   \n",
       "2         164929.056919         70929.047838            1798             240   \n",
       "3         163697.983670         69579.426225            3733             431   \n",
       "4         169955.085679         72591.043953            2086             365   \n",
       "\n",
       "   median_length_ratio  mean_length_ratio  ratio_intra  ratio_inter  \\\n",
       "0             0.840245           1.174423     0.893082     0.106918   \n",
       "1             0.564516           1.153988     0.882405     0.117595   \n",
       "2             0.601887           1.197960     0.882237     0.117763   \n",
       "3             0.682372           1.135773     0.896494     0.103506   \n",
       "4             0.659794           1.273627     0.851081     0.148919   \n",
       "\n",
       "   ratio_m_chr1  ratio_m_chr2  \n",
       "0      0.429245      0.420597  \n",
       "1      0.452561      0.444098  \n",
       "2      0.484789      0.481845  \n",
       "3      0.515610      0.516090  \n",
       "4      0.459404      0.455732  \n",
       "\n",
       "[5 rows x 33 columns]"
      ]
     },
     "execution_count": 111,
     "metadata": {},
     "output_type": "execute_result"
    }
   ],
   "source": [
    "train.head()"
   ]
  },
  {
   "cell_type": "markdown",
   "metadata": {},
   "source": [
    "## Model"
   ]
  },
  {
   "cell_type": "code",
   "execution_count": 112,
   "metadata": {},
   "outputs": [],
   "source": [
    "y = train[\"phase\"]\n",
    "X = train.drop([\"cellid\", \"phase\",\n",
    "               \"order\", \"order_within_phase\"], axis=1)"
   ]
  },
  {
   "cell_type": "code",
   "execution_count": 113,
   "metadata": {},
   "outputs": [],
   "source": [
    "le = LabelEncoder()\n",
    "y_encoded = le.fit_transform(y)"
   ]
  },
  {
   "cell_type": "code",
   "execution_count": 114,
   "metadata": {},
   "outputs": [
    {
     "name": "stdout",
     "output_type": "stream",
     "text": [
      "Encoded y: [0 0 0 0 0]\n",
      "X features: ['total_contacts', 'median_start_distance', 'median_end_distance', 'min_start_distance', 'min_end_distance', 'max_start_distance', 'max_end_distance', 'std_start_distance', 'std_end_distance', 'median_abs_start_distance', 'median_abs_end_distance', 'median_length1', 'median_length2', 'mean_length1', 'mean_length2', 'sum_is_m_chr1', 'sum_is_m_chr2', 'mean_chr1_chr2_count', 'std_chr1_chr2_count', 'mean_chr2_chr1_count', 'std_chr2_chr1_count', 'intra_contacts', 'inter_contacts', 'median_length_ratio', 'mean_length_ratio', 'ratio_intra', 'ratio_inter', 'ratio_m_chr1', 'ratio_m_chr2']\n"
     ]
    }
   ],
   "source": [
    "print(\"Encoded y:\", y_encoded[:5])\n",
    "print(\"X features:\", X.columns.tolist())"
   ]
  },
  {
   "cell_type": "markdown",
   "metadata": {},
   "source": [
    "## Find best hyperparameters with optuna"
   ]
  },
  {
   "cell_type": "code",
   "execution_count": 115,
   "metadata": {},
   "outputs": [],
   "source": [
    "X_train, X_test, y_train, y_test = train_test_split(\n",
    "    X, y_encoded, test_size=0.2, random_state=42)"
   ]
  },
  {
   "cell_type": "markdown",
   "metadata": {},
   "source": [
    "## Model evaluation with KFold"
   ]
  },
  {
   "cell_type": "code",
   "execution_count": 116,
   "metadata": {},
   "outputs": [
    {
     "data": {
      "text/plain": [
       "(1501, 33)"
      ]
     },
     "execution_count": 116,
     "metadata": {},
     "output_type": "execute_result"
    }
   ],
   "source": [
    "train.shape"
   ]
  },
  {
   "cell_type": "code",
   "execution_count": 117,
   "metadata": {},
   "outputs": [],
   "source": [
    "def objective(trial):\n",
    "    params = {\n",
    "        'objective': 'multi:softmax',\n",
    "        'num_class': 3,\n",
    "        'booster': trial.suggest_categorical('booster', ['gbtree', 'dart']),\n",
    "        'learning_rate': trial.suggest_float('learning_rate', 0.01, 0.3),\n",
    "        'max_depth': trial.suggest_int('max_depth', 3, 9),\n",
    "        'n_estimators': trial.suggest_int('n_estimators', 100, 1000),\n",
    "        'subsample': trial.suggest_float('subsample', 0.6, 1.0),\n",
    "        'colsample_bytree': trial.suggest_float('colsample_bytree', 0.6, 1.0),\n",
    "        'gamma': trial.suggest_float('gamma', 0.0, 0.5),\n",
    "        'reg_alpha': trial.suggest_float('reg_alpha', 0, 1),\n",
    "        'reg_lambda': trial.suggest_float('reg_lambda', 0, 1),\n",
    "        'random_state': 42,\n",
    "        'n_jobs': -1\n",
    "    }\n",
    "\n",
    "    scores = []\n",
    "    cv = StratifiedKFold(n_splits=5, shuffle=True, random_state=42)\n",
    "\n",
    "    for train_idx, val_idx in cv.split(X, y_encoded):\n",
    "        X_train, X_val = X.iloc[train_idx], X.iloc[val_idx]\n",
    "        y_train, y_val = y_encoded[train_idx], y_encoded[val_idx]\n",
    "\n",
    "        model = XGBClassifier(**params, early_stopping_rounds=50)\n",
    "        model.fit(\n",
    "            X_train, y_train,\n",
    "            eval_set=[(X_val, y_val)],\n",
    "            verbose=False\n",
    "        )\n",
    "\n",
    "        y_pred = model.predict(X_val)\n",
    "        scores.append(accuracy_score(y_val, y_pred))\n",
    "\n",
    "    return np.mean(scores)"
   ]
  },
  {
   "cell_type": "code",
   "execution_count": null,
   "metadata": {},
   "outputs": [
    {
     "name": "stderr",
     "output_type": "stream",
     "text": [
      "[I 2025-02-27 14:26:54,269] A new study created in memory with name: no-name-2557b9f3-2c9c-4c14-9527-2e9dfa49c24a\n",
      "[I 2025-02-27 14:27:42,595] Trial 0 finished with value: 0.6302458471760797 and parameters: {'booster': 'dart', 'learning_rate': 0.04329683968158647, 'max_depth': 6, 'n_estimators': 719, 'subsample': 0.8306272348137163, 'colsample_bytree': 0.8104909671700431, 'gamma': 0.30436881860270604, 'reg_alpha': 0.6485664350474025, 'reg_lambda': 0.44450814609077693}. Best is trial 0 with value: 0.6302458471760797.\n",
      "[I 2025-02-27 14:27:58,115] Trial 1 finished with value: 0.6222547065337763 and parameters: {'booster': 'dart', 'learning_rate': 0.25572205050392205, 'max_depth': 5, 'n_estimators': 202, 'subsample': 0.9738350871135497, 'colsample_bytree': 0.8951808483279196, 'gamma': 0.11649774923309153, 'reg_alpha': 0.20941521572473354, 'reg_lambda': 0.15739561327168528}. Best is trial 0 with value: 0.6302458471760797.\n",
      "[I 2025-02-27 14:28:15,019] Trial 2 finished with value: 0.6195813953488372 and parameters: {'booster': 'dart', 'learning_rate': 0.2395415751383468, 'max_depth': 7, 'n_estimators': 851, 'subsample': 0.825199349627578, 'colsample_bytree': 0.7724102363684331, 'gamma': 0.355734145514049, 'reg_alpha': 0.25973529558221453, 'reg_lambda': 0.6183993713738314}. Best is trial 0 with value: 0.6302458471760797.\n",
      "[I 2025-02-27 14:28:51,591] Trial 3 finished with value: 0.6142635658914729 and parameters: {'booster': 'dart', 'learning_rate': 0.06890407767856274, 'max_depth': 9, 'n_estimators': 777, 'subsample': 0.9582785470214945, 'colsample_bytree': 0.9764644193083717, 'gamma': 0.23503833841171623, 'reg_alpha': 0.8896768480165431, 'reg_lambda': 0.5422487246182615}. Best is trial 0 with value: 0.6302458471760797.\n",
      "[I 2025-02-27 14:28:52,525] Trial 4 finished with value: 0.6262613510520487 and parameters: {'booster': 'gbtree', 'learning_rate': 0.2145919020435949, 'max_depth': 3, 'n_estimators': 478, 'subsample': 0.6300767702594183, 'colsample_bytree': 0.915404954651533, 'gamma': 0.1545466890305624, 'reg_alpha': 0.6644891799902012, 'reg_lambda': 0.47140036486810566}. Best is trial 0 with value: 0.6302458471760797.\n",
      "[I 2025-02-27 14:29:07,906] Trial 5 finished with value: 0.6169435215946844 and parameters: {'booster': 'dart', 'learning_rate': 0.23446079181379995, 'max_depth': 6, 'n_estimators': 507, 'subsample': 0.8105767481925269, 'colsample_bytree': 0.7234750159290242, 'gamma': 0.09728423476307685, 'reg_alpha': 0.316013388649113, 'reg_lambda': 0.0075571063945133465}. Best is trial 0 with value: 0.6302458471760797.\n",
      "[I 2025-02-27 14:29:10,196] Trial 6 finished with value: 0.6275880398671096 and parameters: {'booster': 'gbtree', 'learning_rate': 0.23385772382217312, 'max_depth': 9, 'n_estimators': 640, 'subsample': 0.7031025225339568, 'colsample_bytree': 0.6622929203018815, 'gamma': 0.325019767586582, 'reg_alpha': 0.9315436257018297, 'reg_lambda': 0.45294239912690026}. Best is trial 0 with value: 0.6302458471760797.\n",
      "[I 2025-02-27 14:29:22,683] Trial 7 finished with value: 0.614921373200443 and parameters: {'booster': 'dart', 'learning_rate': 0.2994819713756273, 'max_depth': 8, 'n_estimators': 165, 'subsample': 0.6676123175709028, 'colsample_bytree': 0.917671242273619, 'gamma': 0.1052829931450629, 'reg_alpha': 0.9088425583644028, 'reg_lambda': 0.07700182957885204}. Best is trial 0 with value: 0.6302458471760797.\n",
      "[I 2025-02-27 14:29:36,297] Trial 8 finished with value: 0.6235924695459579 and parameters: {'booster': 'dart', 'learning_rate': 0.22170526386350742, 'max_depth': 5, 'n_estimators': 961, 'subsample': 0.9395975106762288, 'colsample_bytree': 0.9684180903283631, 'gamma': 0.13992025403790997, 'reg_alpha': 0.4816032044329214, 'reg_lambda': 0.18037084533358638}. Best is trial 0 with value: 0.6302458471760797.\n",
      "[I 2025-02-27 14:30:20,697] Trial 9 finished with value: 0.6349346622369878 and parameters: {'booster': 'dart', 'learning_rate': 0.06003045121841921, 'max_depth': 4, 'n_estimators': 620, 'subsample': 0.8808977267646029, 'colsample_bytree': 0.6994151120782637, 'gamma': 0.29938976579104853, 'reg_alpha': 0.28087865686560587, 'reg_lambda': 0.8010940381702771}. Best is trial 9 with value: 0.6349346622369878.\n"
     ]
    }
   ],
   "source": [
    "# study = optuna.create_study(direction='maximize')\n",
    "# study.optimize(objective, n_trials=10, timeout=3600)"
   ]
  },
  {
   "cell_type": "code",
   "execution_count": 128,
   "metadata": {},
   "outputs": [],
   "source": [
    "best_params = {'booster': 'dart',\n",
    "               'learning_rate': 0.06003045121841921,\n",
    "               'max_depth': 4,\n",
    "               'n_estimators': 620,\n",
    "               'subsample': 0.8808977267646029,\n",
    "               'colsample_bytree': 0.6994151120782637,\n",
    "               'gamma': 0.29938976579104853,\n",
    "               'reg_alpha': 0.28087865686560587,\n",
    "               'reg_lambda': 0.8010940381702771,\n",
    "               \"n-jobs\": -1,\n",
    "               \"random_state\": 42,\n",
    "               \"objective\": \"multi:softmax\",\n",
    "               \"num_class\": 3\n",
    "               }"
   ]
  },
  {
   "cell_type": "code",
   "execution_count": 129,
   "metadata": {},
   "outputs": [
    {
     "name": "stdout",
     "output_type": "stream",
     "text": [
      "Best parameters: {'booster': 'dart', 'learning_rate': 0.06003045121841921, 'max_depth': 4, 'n_estimators': 620, 'subsample': 0.8808977267646029, 'colsample_bytree': 0.6994151120782637, 'gamma': 0.29938976579104853, 'reg_alpha': 0.28087865686560587, 'reg_lambda': 0.8010940381702771, 'n-jobs': -1, 'random_state': 42, 'objective': 'multi:softmax', 'num_class': 3}\n"
     ]
    }
   ],
   "source": [
    "print(\"Best parameters:\", best_params)"
   ]
  },
  {
   "cell_type": "code",
   "execution_count": 121,
   "metadata": {},
   "outputs": [],
   "source": [
    "folds = StratifiedKFold(n_splits=5, shuffle=True, random_state=42)"
   ]
  },
  {
   "cell_type": "code",
   "execution_count": 122,
   "metadata": {},
   "outputs": [],
   "source": [
    "accuracy_scores = []"
   ]
  },
  {
   "cell_type": "code",
   "execution_count": 123,
   "metadata": {},
   "outputs": [
    {
     "name": "stdout",
     "output_type": "stream",
     "text": [
      "Fold accuracy: 0.5980\n",
      "Fold accuracy: 0.6667\n",
      "Fold accuracy: 0.6267\n",
      "Fold accuracy: 0.6700\n",
      "Fold accuracy: 0.6133\n",
      "\n",
      "Mean cross-validated accuracy: 0.6349\n"
     ]
    }
   ],
   "source": [
    "for train_idx, val_idx in folds.split(X, y_encoded):\n",
    "    X_train, X_val = X.iloc[train_idx], X.iloc[val_idx]\n",
    "    y_train, y_val = y_encoded[train_idx], y_encoded[val_idx]\n",
    "\n",
    "    model = XGBClassifier(**best_params, early_stopping_rounds=50)\n",
    "    model.fit(\n",
    "        X_train, y_train,\n",
    "        eval_set=[(X_val, y_val)],\n",
    "        verbose=False\n",
    "    )\n",
    "\n",
    "    y_pred = model.predict(X_val)\n",
    "    accuracy = accuracy_score(y_val, y_pred)\n",
    "    accuracy_scores.append(accuracy)\n",
    "    print(f\"Fold accuracy: {accuracy:.4f}\")\n",
    "\n",
    "mean_accuracy = np.mean(accuracy_scores)\n",
    "print(f\"\\nMean cross-validated accuracy: {mean_accuracy:.4f}\")"
   ]
  },
  {
   "cell_type": "code",
   "execution_count": 125,
   "metadata": {},
   "outputs": [],
   "source": [
    "def plot_feature_importances(model):\n",
    "    n_features = X.shape[1]\n",
    "    feature_importances = model.feature_importances_\n",
    "    sorted_idx = np.argsort(feature_importances)\n",
    "\n",
    "    plt.figure(figsize=(8, 6))\n",
    "    plt.barh(range(n_features),\n",
    "             feature_importances[sorted_idx], align=\"center\")\n",
    "    plt.yticks(np.arange(n_features), X.columns[sorted_idx])\n",
    "    plt.xlabel(\"Importance\")\n",
    "    plt.ylabel(\"Features\")\n",
    "    plt.title(\"Feature Importances\")\n",
    "    plt.show()\n",
    "\n",
    "    # Print feature names and their importance\n",
    "    for idx in sorted_idx:\n",
    "        print(f\"{X.columns[idx]}: {feature_importances[idx]}\")"
   ]
  },
  {
   "cell_type": "code",
   "execution_count": 126,
   "metadata": {},
   "outputs": [
    {
     "data": {
      "image/png": "[encoded data removed]",
      "text/plain": [
       "<Figure size 800x600 with 1 Axes>"
      ]
     },
     "metadata": {},
     "output_type": "display_data"
    },
    {
     "name": "stdout",
     "output_type": "stream",
     "text": [
      "median_length2: 0.019729848951101303\n",
      "std_chr1_chr2_count: 0.024615494534373283\n",
      "mean_length_ratio: 0.024791084229946136\n",
      "min_end_distance: 0.025372756645083427\n",
      "sum_is_m_chr1: 0.025929566472768784\n",
      "total_contacts: 0.025953004136681557\n",
      "max_start_distance: 0.02623458206653595\n",
      "min_start_distance: 0.026342738419771194\n",
      "std_chr2_chr1_count: 0.026585835963487625\n",
      "median_end_distance: 0.027043147012591362\n",
      "intra_contacts: 0.027213530614972115\n",
      "max_end_distance: 0.027333715930581093\n",
      "median_start_distance: 0.027431773021817207\n",
      "mean_chr1_chr2_count: 0.02783745899796486\n",
      "ratio_m_chr2: 0.027841836214065552\n",
      "median_length_ratio: 0.02786300517618656\n",
      "ratio_m_chr1: 0.027982845902442932\n",
      "mean_chr2_chr1_count: 0.03039461560547352\n",
      "sum_is_m_chr2: 0.030683279037475586\n",
      "median_length1: 0.03164336830377579\n",
      "ratio_inter: 0.0332067608833313\n",
      "inter_contacts: 0.033300768584012985\n",
      "mean_length2: 0.03618422523140907\n",
      "ratio_intra: 0.03904588893055916\n",
      "mean_length1: 0.041317425668239594\n",
      "median_abs_start_distance: 0.05448250472545624\n",
      "median_abs_end_distance: 0.0638434886932373\n",
      "std_end_distance: 0.07687830179929733\n",
      "std_start_distance: 0.082917220890522\n"
     ]
    }
   ],
   "source": [
    "plot_feature_importances(model)"
   ]
  },
  {
   "cell_type": "code",
   "execution_count": null,
   "metadata": {},
   "outputs": [],
   "source": []
  }
 ],
 "metadata": {
  "kernelspec": {
   "display_name": "base",
   "language": "python",
   "name": "python3"
  },
  "language_info": {
   "codemirror_mode": {
    "name": "ipython",
    "version": 3
   },
   "file_extension": ".py",
   "mimetype": "text/x-python",
   "name": "python",
   "nbconvert_exporter": "python",
   "pygments_lexer": "ipython3",
   "version": "3.11.5"
  }
 },
 "nbformat": 4,
 "nbformat_minor": 2
}
