{
 "cells": [
  {
   "cell_type": "code",
   "execution_count": 1,
   "id": "e61c8291",
   "metadata": {},
   "outputs": [],
   "source": [
    "import warnings\n",
    "import matplotlib.pyplot as plt\n",
    "import seaborn as sns\n",
    "import pandas as pd\n",
    "import numpy as np\n",
    "\n",
    "warnings.filterwarnings('ignore')"
   ]
  },
  {
   "cell_type": "code",
   "execution_count": 25,
   "id": "824f97fb",
   "metadata": {},
   "outputs": [],
   "source": [
    "from sklearn.neighbors import KNeighborsRegressor\n",
    "from sklearn.linear_model import Lasso\n",
    "from sklearn.model_selection import GridSearchCV\n",
    "from sklearn.ensemble import RandomForestRegressor"
   ]
  },
  {
   "cell_type": "code",
   "execution_count": 4,
   "id": "8da170b1",
   "metadata": {},
   "outputs": [],
   "source": [
    "df = pd.read_csv(\"../input/processed_data.csv\")\n",
    "df.drop(columns=[\"cellid\", \"phase\"], inplace=True)\n",
    "\n",
    "X = df.drop(columns=\"order\")\n",
    "y = df[\"order\"]"
   ]
  },
  {
   "cell_type": "code",
   "execution_count": 18,
   "id": "a3b13b2e",
   "metadata": {},
   "outputs": [],
   "source": [
    "def grid_search(model, param_grid):\n",
    "    grid_search = GridSearchCV(model, param_grid, cv=5)\n",
    "    grid_search.fit(X, y)\n",
    "    print(f\"Best params for {model}:\")\n",
    "    print(grid_search.best_params_)"
   ]
  },
  {
   "cell_type": "code",
   "execution_count": null,
   "id": "375fba14",
   "metadata": {},
   "outputs": [],
   "source": [
    "param_grid_knn = {\n",
    "    \"n_neighbors\": [5, 10, 20, 50, 100],\n",
    "    \"weights\": [\"uniform\", \"distance\"],\n",
    "    \"p\": [0.5, 1, 2, 5, 20]\n",
    "}\n",
    "\n",
    "param_grid_lasso = {\n",
    "    \"alpha\": [0.1, 0.2, 0.5, 1, 10, 50, 100]\n",
    "}\n",
    "\n",
    "param_grid_forest = {\n",
    "    \"n_estimators\": [100],\n",
    "    \"max_depth\": [None, 2, 10, 100],\n",
    "    \"min_samples_split\": [2, 5, 10, 30]\n",
    "}"
   ]
  },
  {
   "cell_type": "code",
   "execution_count": 23,
   "id": "b50d2f08",
   "metadata": {},
   "outputs": [
    {
     "name": "stdout",
     "output_type": "stream",
     "text": [
      "Best params for KNeighborsRegressor():\n",
      "{'n_neighbors': 100, 'p': 0.5, 'weights': 'distance'}\n"
     ]
    }
   ],
   "source": [
    "grid_search(KNeighborsRegressor(), param_grid_knn)"
   ]
  },
  {
   "cell_type": "code",
   "execution_count": 24,
   "id": "60accf58",
   "metadata": {},
   "outputs": [
    {
     "name": "stdout",
     "output_type": "stream",
     "text": [
      "Best params for Lasso():\n",
      "{'alpha': 0.1}\n"
     ]
    }
   ],
   "source": [
    "grid_search(Lasso(), param_grid_lasso)"
   ]
  },
  {
   "cell_type": "code",
   "execution_count": 30,
   "id": "001770ed",
   "metadata": {},
   "outputs": [
    {
     "name": "stdout",
     "output_type": "stream",
     "text": [
      "Best params for RandomForestRegressor():\n",
      "{'max_depth': 2, 'min_samples_split': 10, 'n_estimators': 100}\n"
     ]
    }
   ],
   "source": [
    "grid_search(RandomForestRegressor(), param_grid_forest)"
   ]
  },
  {
   "cell_type": "code",
   "execution_count": null,
   "id": "5d89944e",
   "metadata": {},
   "outputs": [],
   "source": [
    "# Using these 'best params' makes RMSE greater :("
   ]
  }
 ],
 "metadata": {
  "kernelspec": {
   "display_name": "Python 3",
   "language": "python",
   "name": "python3"
  },
  "language_info": {
   "codemirror_mode": {
    "name": "ipython",
    "version": 3
   },
   "file_extension": ".py",
   "mimetype": "text/x-python",
   "name": "python",
   "nbconvert_exporter": "python",
   "pygments_lexer": "ipython3",
   "version": "3.10.12"
  }
 },
 "nbformat": 4,
 "nbformat_minor": 5
}
