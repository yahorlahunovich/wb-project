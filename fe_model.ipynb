{
 "cells": [
  {
   "cell_type": "code",
   "execution_count": 182,
   "metadata": {},
   "outputs": [],
   "source": [
    "from sklearn.model_selection import train_test_split, StratifiedKFold\n",
    "from sklearn.metrics import accuracy_score\n",
    "from sklearn.preprocessing import LabelEncoder\n",
    "import lightgbm as lgb\n",
    "import pandas as pd\n",
    "import numpy as np\n",
    "\n",
    "\n",
    "import warnings\n",
    "warnings.filterwarnings('ignore')"
   ]
  },
  {
   "cell_type": "code",
   "execution_count": 268,
   "metadata": {},
   "outputs": [],
   "source": [
    "train = pd.read_csv('data/train_data_2000.csv')\n",
    "test = pd.read_csv('data/test_data_2000.csv')\n",
    "contact = pd.read_csv('data/contact_data_2000.csv')"
   ]
  },
  {
   "cell_type": "code",
   "execution_count": 269,
   "metadata": {},
   "outputs": [
    {
     "data": {
      "text/html": [
       "<div>\n",
       "<style scoped>\n",
       "    .dataframe tbody tr th:only-of-type {\n",
       "        vertical-align: middle;\n",
       "    }\n",
       "\n",
       "    .dataframe tbody tr th {\n",
       "        vertical-align: top;\n",
       "    }\n",
       "\n",
       "    .dataframe thead th {\n",
       "        text-align: right;\n",
       "    }\n",
       "</style>\n",
       "<table border=\"1\" class=\"dataframe\">\n",
       "  <thead>\n",
       "    <tr style=\"text-align: right;\">\n",
       "      <th></th>\n",
       "      <th>cellid</th>\n",
       "      <th>phase</th>\n",
       "      <th>order_within_phase</th>\n",
       "      <th>order</th>\n",
       "    </tr>\n",
       "  </thead>\n",
       "  <tbody>\n",
       "    <tr>\n",
       "      <th>0</th>\n",
       "      <td>SCG0088_CTATGAGGTACCGGAT-1</td>\n",
       "      <td>G1</td>\n",
       "      <td>0</td>\n",
       "      <td>0</td>\n",
       "    </tr>\n",
       "    <tr>\n",
       "      <th>1</th>\n",
       "      <td>SCG0088_GCTAAGCGTATTGGTG-1</td>\n",
       "      <td>G1</td>\n",
       "      <td>0</td>\n",
       "      <td>0</td>\n",
       "    </tr>\n",
       "    <tr>\n",
       "      <th>2</th>\n",
       "      <td>SCG0089_TCCATTGTCTGTAAGC-1</td>\n",
       "      <td>G1</td>\n",
       "      <td>0</td>\n",
       "      <td>0</td>\n",
       "    </tr>\n",
       "    <tr>\n",
       "      <th>3</th>\n",
       "      <td>SCG0092_GTTTATCTCATGCTAA-1</td>\n",
       "      <td>G1</td>\n",
       "      <td>0</td>\n",
       "      <td>0</td>\n",
       "    </tr>\n",
       "    <tr>\n",
       "      <th>4</th>\n",
       "      <td>SCG0092_AACCGCTCAGCTCATA-1</td>\n",
       "      <td>G1</td>\n",
       "      <td>0</td>\n",
       "      <td>0</td>\n",
       "    </tr>\n",
       "  </tbody>\n",
       "</table>\n",
       "</div>"
      ],
      "text/plain": [
       "                       cellid phase  order_within_phase  order\n",
       "0  SCG0088_CTATGAGGTACCGGAT-1    G1                   0      0\n",
       "1  SCG0088_GCTAAGCGTATTGGTG-1    G1                   0      0\n",
       "2  SCG0089_TCCATTGTCTGTAAGC-1    G1                   0      0\n",
       "3  SCG0092_GTTTATCTCATGCTAA-1    G1                   0      0\n",
       "4  SCG0092_AACCGCTCAGCTCATA-1    G1                   0      0"
      ]
     },
     "execution_count": 269,
     "metadata": {},
     "output_type": "execute_result"
    }
   ],
   "source": [
    "train.head()"
   ]
  },
  {
   "cell_type": "code",
   "execution_count": 270,
   "metadata": {},
   "outputs": [
    {
     "data": {
      "text/plain": [
       "array([ 0,  1,  2,  3,  4,  5,  6,  7,  8,  9, 10, 11, 12, 13, 14, 15, 16,\n",
       "       17, 18, 19, 21, 22, 23, 24, 25, 26, 27, 28, 29, 30, 32, 33, 34, 35,\n",
       "       36, 37, 38, 39, 40, 41, 42, 43])"
      ]
     },
     "execution_count": 270,
     "metadata": {},
     "output_type": "execute_result"
    }
   ],
   "source": [
    "train[\"order\"].unique()"
   ]
  },
  {
   "cell_type": "code",
   "execution_count": 271,
   "metadata": {},
   "outputs": [
    {
     "data": {
      "text/plain": [
       "array([ 0,  1,  2,  3,  4,  5,  6,  7,  8,  9, 10, 11, 12, 13, 14, 15, 16,\n",
       "       17, 18, 19])"
      ]
     },
     "execution_count": 271,
     "metadata": {},
     "output_type": "execute_result"
    }
   ],
   "source": [
    "train[\"order_within_phase\"].unique()"
   ]
  },
  {
   "cell_type": "code",
   "execution_count": 272,
   "metadata": {},
   "outputs": [
    {
     "data": {
      "text/html": [
       "<div>\n",
       "<style scoped>\n",
       "    .dataframe tbody tr th:only-of-type {\n",
       "        vertical-align: middle;\n",
       "    }\n",
       "\n",
       "    .dataframe tbody tr th {\n",
       "        vertical-align: top;\n",
       "    }\n",
       "\n",
       "    .dataframe thead th {\n",
       "        text-align: right;\n",
       "    }\n",
       "</style>\n",
       "<table border=\"1\" class=\"dataframe\">\n",
       "  <thead>\n",
       "    <tr style=\"text-align: right;\">\n",
       "      <th></th>\n",
       "      <th>cellid</th>\n",
       "      <th>phase</th>\n",
       "      <th>order_within_phase</th>\n",
       "      <th>order</th>\n",
       "    </tr>\n",
       "  </thead>\n",
       "  <tbody>\n",
       "    <tr>\n",
       "      <th>0</th>\n",
       "      <td>SCG0089_CTTATGTTCCCGCCTA-1</td>\n",
       "      <td>NaN</td>\n",
       "      <td>NaN</td>\n",
       "      <td>NaN</td>\n",
       "    </tr>\n",
       "    <tr>\n",
       "      <th>1</th>\n",
       "      <td>SCG0093_AGAACCGCACAGCCAT-1</td>\n",
       "      <td>NaN</td>\n",
       "      <td>NaN</td>\n",
       "      <td>NaN</td>\n",
       "    </tr>\n",
       "    <tr>\n",
       "      <th>2</th>\n",
       "      <td>SCG0090_CCAGGATGTGCTCACC-1</td>\n",
       "      <td>NaN</td>\n",
       "      <td>NaN</td>\n",
       "      <td>NaN</td>\n",
       "    </tr>\n",
       "    <tr>\n",
       "      <th>3</th>\n",
       "      <td>SCG0089_TACCTTTAGCACTTGG-1</td>\n",
       "      <td>NaN</td>\n",
       "      <td>NaN</td>\n",
       "      <td>NaN</td>\n",
       "    </tr>\n",
       "    <tr>\n",
       "      <th>4</th>\n",
       "      <td>SCG0092_TGATCAGGTTTGAGGC-1</td>\n",
       "      <td>NaN</td>\n",
       "      <td>NaN</td>\n",
       "      <td>NaN</td>\n",
       "    </tr>\n",
       "  </tbody>\n",
       "</table>\n",
       "</div>"
      ],
      "text/plain": [
       "                       cellid  phase  order_within_phase  order\n",
       "0  SCG0089_CTTATGTTCCCGCCTA-1    NaN                 NaN    NaN\n",
       "1  SCG0093_AGAACCGCACAGCCAT-1    NaN                 NaN    NaN\n",
       "2  SCG0090_CCAGGATGTGCTCACC-1    NaN                 NaN    NaN\n",
       "3  SCG0089_TACCTTTAGCACTTGG-1    NaN                 NaN    NaN\n",
       "4  SCG0092_TGATCAGGTTTGAGGC-1    NaN                 NaN    NaN"
      ]
     },
     "execution_count": 272,
     "metadata": {},
     "output_type": "execute_result"
    }
   ],
   "source": [
    "test.head()"
   ]
  },
  {
   "cell_type": "code",
   "execution_count": 273,
   "metadata": {},
   "outputs": [
    {
     "data": {
      "text/html": [
       "<div>\n",
       "<style scoped>\n",
       "    .dataframe tbody tr th:only-of-type {\n",
       "        vertical-align: middle;\n",
       "    }\n",
       "\n",
       "    .dataframe tbody tr th {\n",
       "        vertical-align: top;\n",
       "    }\n",
       "\n",
       "    .dataframe thead th {\n",
       "        text-align: right;\n",
       "    }\n",
       "</style>\n",
       "<table border=\"1\" class=\"dataframe\">\n",
       "  <thead>\n",
       "    <tr style=\"text-align: right;\">\n",
       "      <th></th>\n",
       "      <th>chr1</th>\n",
       "      <th>start1</th>\n",
       "      <th>end1</th>\n",
       "      <th>chr2</th>\n",
       "      <th>start2</th>\n",
       "      <th>end2</th>\n",
       "      <th>cellid</th>\n",
       "    </tr>\n",
       "  </thead>\n",
       "  <tbody>\n",
       "    <tr>\n",
       "      <th>0</th>\n",
       "      <td>chr13-M</td>\n",
       "      <td>74316813</td>\n",
       "      <td>74316959</td>\n",
       "      <td>chr13-M</td>\n",
       "      <td>72727004</td>\n",
       "      <td>72727154</td>\n",
       "      <td>SCG0088_TTTAACCTCAGCCAAT-1</td>\n",
       "    </tr>\n",
       "    <tr>\n",
       "      <th>1</th>\n",
       "      <td>chr1-M</td>\n",
       "      <td>79322530</td>\n",
       "      <td>79322563</td>\n",
       "      <td>chr12-M</td>\n",
       "      <td>4538118</td>\n",
       "      <td>4538268</td>\n",
       "      <td>SCG0088_TATAGGTGTCCCGGAA-1</td>\n",
       "    </tr>\n",
       "    <tr>\n",
       "      <th>2</th>\n",
       "      <td>chr2-M</td>\n",
       "      <td>75633331</td>\n",
       "      <td>75633491</td>\n",
       "      <td>chr8-P</td>\n",
       "      <td>125695812</td>\n",
       "      <td>125695962</td>\n",
       "      <td>SCG0088_CGTTAACAGTACCGCA-1</td>\n",
       "    </tr>\n",
       "    <tr>\n",
       "      <th>3</th>\n",
       "      <td>chr7-P</td>\n",
       "      <td>136324163</td>\n",
       "      <td>136324313</td>\n",
       "      <td>chr7-P</td>\n",
       "      <td>136352442</td>\n",
       "      <td>136352592</td>\n",
       "      <td>SCG0088_TTTAACCTCAGCCAAT-1</td>\n",
       "    </tr>\n",
       "    <tr>\n",
       "      <th>4</th>\n",
       "      <td>chr6-M</td>\n",
       "      <td>49253365</td>\n",
       "      <td>49253515</td>\n",
       "      <td>chr6-M</td>\n",
       "      <td>49323546</td>\n",
       "      <td>49323680</td>\n",
       "      <td>SCG0088_CGTTAACAGTACCGCA-1</td>\n",
       "    </tr>\n",
       "  </tbody>\n",
       "</table>\n",
       "</div>"
      ],
      "text/plain": [
       "      chr1     start1       end1     chr2     start2       end2  \\\n",
       "0  chr13-M   74316813   74316959  chr13-M   72727004   72727154   \n",
       "1   chr1-M   79322530   79322563  chr12-M    4538118    4538268   \n",
       "2   chr2-M   75633331   75633491   chr8-P  125695812  125695962   \n",
       "3   chr7-P  136324163  136324313   chr7-P  136352442  136352592   \n",
       "4   chr6-M   49253365   49253515   chr6-M   49323546   49323680   \n",
       "\n",
       "                       cellid  \n",
       "0  SCG0088_TTTAACCTCAGCCAAT-1  \n",
       "1  SCG0088_TATAGGTGTCCCGGAA-1  \n",
       "2  SCG0088_CGTTAACAGTACCGCA-1  \n",
       "3  SCG0088_TTTAACCTCAGCCAAT-1  \n",
       "4  SCG0088_CGTTAACAGTACCGCA-1  "
      ]
     },
     "execution_count": 273,
     "metadata": {},
     "output_type": "execute_result"
    }
   ],
   "source": [
    "contact.head()"
   ]
  },
  {
   "cell_type": "code",
   "execution_count": 274,
   "metadata": {},
   "outputs": [
    {
     "name": "stdout",
     "output_type": "stream",
     "text": [
      "(5679074, 7)\n"
     ]
    }
   ],
   "source": [
    "print(contact.shape)\n",
    "total_contacts = contact.shape[0]"
   ]
  },
  {
   "cell_type": "markdown",
   "metadata": {},
   "source": [
    "## Feature Engineering"
   ]
  },
  {
   "cell_type": "code",
   "execution_count": null,
   "metadata": {},
   "outputs": [],
   "source": [
    "# BIG MISTAKE!!!\n",
    "# I CAN'T GROUP BY ORDER,PHASE, ORDER_WITHIN_PHASE!!!\n",
    "\n",
    "\n",
    "# # order\n",
    "# agg_stats_order = train.groupby(\"phase\")[\"order\"].agg(\n",
    "#     phase_order_te_mean=\"mean\",\n",
    "#     phase_order_te_median=\"median\",\n",
    "#     phase_order_te_min=\"min\",\n",
    "#     phase_order_te_max=\"max\",\n",
    "#     phase_order_te_std=\"std\",\n",
    "#     phase_order_te_count=\"size\"\n",
    "# ).reset_index()\n",
    "\n",
    "# # order_within_phase\n",
    "# agg_stats_order_wp = train.groupby(\"phase\")[\"order_within_phase\"].agg(\n",
    "#     phase_order_wp_te_mean=\"mean\",\n",
    "#     phase_order_wp_te_median=\"median\",\n",
    "#     phase_order_wp_te_min=\"min\",\n",
    "#     phase_order_wp_te_max=\"max\",\n",
    "#     phase_order_wp_te_std=\"std\",\n",
    "#     phase_order_wp_te_count=\"size\"\n",
    "# ).reset_index()\n",
    "\n",
    "# agg_stats_order = train.groupby(\"cellid\")[\"order\"].agg(\n",
    "#     cellid_order_mean=\"mean\",\n",
    "#     cellid_order_median=\"median\",\n",
    "#     cellid_order_min=\"min\",\n",
    "#     cellid_order_max=\"max\",\n",
    "#     cellid_order_std=\"std\",\n",
    "#     cellid_order_count=\"size\"\n",
    "# ).reset_index()\n",
    "\n",
    "# agg_stats_order_wp = train.groupby(\"cellid\")[\"order_within_phase\"].agg(\n",
    "#     cellid_order_wp_mean=\"mean\",\n",
    "#     cellid_order_wp_median=\"median\",\n",
    "#     cellid_order_wp_min=\"min\",\n",
    "#     cellid_order_wp_max=\"max\",\n",
    "#     cellid_order_wp_std=\"std\",\n",
    "#     cellid_order_wp_count=\"size\"\n",
    "# ).reset_index()"
   ]
  },
  {
   "cell_type": "code",
   "execution_count": null,
   "metadata": {},
   "outputs": [],
   "source": [
    "# train = train.merge(agg_stats_order, on=\"cellid\", how=\"left\")\n",
    "# train = train.merge(agg_stats_order_wp, on=\"cellid\", how=\"left\")"
   ]
  },
  {
   "cell_type": "code",
   "execution_count": 275,
   "metadata": {},
   "outputs": [],
   "source": [
    "contact[\"distance_1\"] = contact[\"start1\"] - contact[\"end1\"]\n",
    "contact[\"distance_2\"] = contact[\"start2\"] - contact[\"end2\"]"
   ]
  },
  {
   "cell_type": "code",
   "execution_count": 276,
   "metadata": {},
   "outputs": [],
   "source": [
    "contact_features = contact.groupby(\"cellid\").agg(\n",
    "    total_contacts=(\"chr1\", \"count\"),\n",
    "    median_distance_1=(\"distance_1\", \"median\"),\n",
    "    median_distance_2=(\"distance_2\", \"median\"),\n",
    "    intra_contacts=(\"chr1\", lambda x: (\n",
    "        x == contact.loc[x.index, \"chr2\"]).sum()),\n",
    "    inter_contacts=(\"chr1\", lambda x: (\n",
    "        x != contact.loc[x.index, \"chr2\"]).sum())\n",
    ").assign(\n",
    "    ratio_intra=lambda df: df[\"intra_contacts\"] / df[\"total_contacts\"],\n",
    "    ratio_inter=lambda df: df[\"inter_contacts\"] / df[\"total_contacts\"]\n",
    ").fillna(0)"
   ]
  },
  {
   "cell_type": "code",
   "execution_count": 277,
   "metadata": {},
   "outputs": [],
   "source": [
    "train = train.merge(contact_features, on=\"cellid\", how=\"left\")"
   ]
  },
  {
   "cell_type": "code",
   "execution_count": 278,
   "metadata": {},
   "outputs": [
    {
     "data": {
      "text/html": [
       "<div>\n",
       "<style scoped>\n",
       "    .dataframe tbody tr th:only-of-type {\n",
       "        vertical-align: middle;\n",
       "    }\n",
       "\n",
       "    .dataframe tbody tr th {\n",
       "        vertical-align: top;\n",
       "    }\n",
       "\n",
       "    .dataframe thead th {\n",
       "        text-align: right;\n",
       "    }\n",
       "</style>\n",
       "<table border=\"1\" class=\"dataframe\">\n",
       "  <thead>\n",
       "    <tr style=\"text-align: right;\">\n",
       "      <th></th>\n",
       "      <th>cellid</th>\n",
       "      <th>phase</th>\n",
       "      <th>order_within_phase</th>\n",
       "      <th>order</th>\n",
       "      <th>total_contacts</th>\n",
       "      <th>median_distance_1</th>\n",
       "      <th>median_distance_2</th>\n",
       "      <th>intra_contacts</th>\n",
       "      <th>inter_contacts</th>\n",
       "      <th>ratio_intra</th>\n",
       "      <th>ratio_inter</th>\n",
       "    </tr>\n",
       "  </thead>\n",
       "  <tbody>\n",
       "    <tr>\n",
       "      <th>0</th>\n",
       "      <td>SCG0088_CTATGAGGTACCGGAT-1</td>\n",
       "      <td>G1</td>\n",
       "      <td>0</td>\n",
       "      <td>0</td>\n",
       "      <td>2544</td>\n",
       "      <td>-85.0</td>\n",
       "      <td>-150.0</td>\n",
       "      <td>2272</td>\n",
       "      <td>272</td>\n",
       "      <td>0.893082</td>\n",
       "      <td>0.106918</td>\n",
       "    </tr>\n",
       "    <tr>\n",
       "      <th>1</th>\n",
       "      <td>SCG0088_GCTAAGCGTATTGGTG-1</td>\n",
       "      <td>G1</td>\n",
       "      <td>0</td>\n",
       "      <td>0</td>\n",
       "      <td>2245</td>\n",
       "      <td>-55.0</td>\n",
       "      <td>-149.0</td>\n",
       "      <td>1981</td>\n",
       "      <td>264</td>\n",
       "      <td>0.882405</td>\n",
       "      <td>0.117595</td>\n",
       "    </tr>\n",
       "    <tr>\n",
       "      <th>2</th>\n",
       "      <td>SCG0089_TCCATTGTCTGTAAGC-1</td>\n",
       "      <td>G1</td>\n",
       "      <td>0</td>\n",
       "      <td>0</td>\n",
       "      <td>2038</td>\n",
       "      <td>-59.0</td>\n",
       "      <td>-148.0</td>\n",
       "      <td>1798</td>\n",
       "      <td>240</td>\n",
       "      <td>0.882237</td>\n",
       "      <td>0.117763</td>\n",
       "    </tr>\n",
       "    <tr>\n",
       "      <th>3</th>\n",
       "      <td>SCG0092_GTTTATCTCATGCTAA-1</td>\n",
       "      <td>G1</td>\n",
       "      <td>0</td>\n",
       "      <td>0</td>\n",
       "      <td>4164</td>\n",
       "      <td>-63.0</td>\n",
       "      <td>-150.0</td>\n",
       "      <td>3733</td>\n",
       "      <td>431</td>\n",
       "      <td>0.896494</td>\n",
       "      <td>0.103506</td>\n",
       "    </tr>\n",
       "    <tr>\n",
       "      <th>4</th>\n",
       "      <td>SCG0092_AACCGCTCAGCTCATA-1</td>\n",
       "      <td>G1</td>\n",
       "      <td>0</td>\n",
       "      <td>0</td>\n",
       "      <td>2451</td>\n",
       "      <td>-60.0</td>\n",
       "      <td>-147.0</td>\n",
       "      <td>2086</td>\n",
       "      <td>365</td>\n",
       "      <td>0.851081</td>\n",
       "      <td>0.148919</td>\n",
       "    </tr>\n",
       "  </tbody>\n",
       "</table>\n",
       "</div>"
      ],
      "text/plain": [
       "                       cellid phase  order_within_phase  order  \\\n",
       "0  SCG0088_CTATGAGGTACCGGAT-1    G1                   0      0   \n",
       "1  SCG0088_GCTAAGCGTATTGGTG-1    G1                   0      0   \n",
       "2  SCG0089_TCCATTGTCTGTAAGC-1    G1                   0      0   \n",
       "3  SCG0092_GTTTATCTCATGCTAA-1    G1                   0      0   \n",
       "4  SCG0092_AACCGCTCAGCTCATA-1    G1                   0      0   \n",
       "\n",
       "   total_contacts  median_distance_1  median_distance_2  intra_contacts  \\\n",
       "0            2544              -85.0             -150.0            2272   \n",
       "1            2245              -55.0             -149.0            1981   \n",
       "2            2038              -59.0             -148.0            1798   \n",
       "3            4164              -63.0             -150.0            3733   \n",
       "4            2451              -60.0             -147.0            2086   \n",
       "\n",
       "   inter_contacts  ratio_intra  ratio_inter  \n",
       "0             272     0.893082     0.106918  \n",
       "1             264     0.882405     0.117595  \n",
       "2             240     0.882237     0.117763  \n",
       "3             431     0.896494     0.103506  \n",
       "4             365     0.851081     0.148919  "
      ]
     },
     "execution_count": 278,
     "metadata": {},
     "output_type": "execute_result"
    }
   ],
   "source": [
    "train.head()"
   ]
  },
  {
   "cell_type": "markdown",
   "metadata": {},
   "source": [
    "## Model"
   ]
  },
  {
   "cell_type": "code",
   "execution_count": 279,
   "metadata": {},
   "outputs": [],
   "source": [
    "y = train[\"phase\"]\n",
    "X = train.drop([\"cellid\", \"phase\", \"order\", \"order_within_phase\"], axis=1)"
   ]
  },
  {
   "cell_type": "code",
   "execution_count": 280,
   "metadata": {},
   "outputs": [],
   "source": [
    "le = LabelEncoder()\n",
    "y_encoded = le.fit_transform(y)"
   ]
  },
  {
   "cell_type": "code",
   "execution_count": 281,
   "metadata": {},
   "outputs": [
    {
     "name": "stdout",
     "output_type": "stream",
     "text": [
      "Encoded y: [0 0 0 0 0]\n",
      "X features: ['total_contacts', 'median_distance_1', 'median_distance_2', 'intra_contacts', 'inter_contacts', 'ratio_intra', 'ratio_inter']\n"
     ]
    }
   ],
   "source": [
    "print(\"Encoded y:\", y_encoded[:5])\n",
    "print(\"X features:\", X.columns.tolist())"
   ]
  },
  {
   "cell_type": "code",
   "execution_count": 288,
   "metadata": {},
   "outputs": [],
   "source": [
    "params = {\n",
    "    'objective': 'multiclass',\n",
    "    # 3 phases\n",
    "    'num_class': 3,\n",
    "    # Multiclass-compatible metric\n",
    "    'metric': 'multi_logloss',\n",
    "    'boosting_type': 'gbdt',\n",
    "    'max_depth': 4,\n",
    "    'n_jobs': -1,\n",
    "    'verbose': -1\n",
    "}"
   ]
  },
  {
   "cell_type": "code",
   "execution_count": 283,
   "metadata": {},
   "outputs": [
    {
     "data": {
      "text/plain": [
       "array(['G1', 'S', 'G2M'], dtype=object)"
      ]
     },
     "execution_count": 283,
     "metadata": {},
     "output_type": "execute_result"
    }
   ],
   "source": [
    "y.unique()"
   ]
  },
  {
   "cell_type": "code",
   "execution_count": 284,
   "metadata": {},
   "outputs": [],
   "source": [
    "folds = StratifiedKFold(n_splits=5, shuffle=True, random_state=42)"
   ]
  },
  {
   "cell_type": "code",
   "execution_count": 285,
   "metadata": {},
   "outputs": [],
   "source": [
    "accuracy_scores = []"
   ]
  },
  {
   "cell_type": "code",
   "execution_count": null,
   "metadata": {},
   "outputs": [
    {
     "name": "stdout",
     "output_type": "stream",
     "text": [
      "Fold accuracy: 0.5781\n",
      "Fold accuracy: 0.5900\n",
      "Fold accuracy: 0.5933\n",
      "Fold accuracy: 0.5867\n",
      "Fold accuracy: 0.6067\n"
     ]
    }
   ],
   "source": [
    "for train_idx, val_idx in folds.split(X, y_encoded):\n",
    "    X_train, X_val = X.iloc[train_idx], X.iloc[val_idx]\n",
    "    y_train, y_val = y_encoded[train_idx], y_encoded[val_idx]\n",
    "\n",
    "    # Train LightGBM model\n",
    "    model = lgb.LGBMClassifier(**params, n_estimators=100)\n",
    "    model.fit(\n",
    "        X_train, y_train,\n",
    "        eval_set=[(X_val, y_val)],\n",
    "        eval_metric='multi_logloss',\n",
    "        callbacks=[\n",
    "            lgb.early_stopping(stopping_rounds=50,\n",
    "                               verbose=False),  \n",
    "        ]\n",
    "    )\n",
    "\n",
    "    # Predict on validation set\n",
    "    y_pred = model.predict(X_val, num_iteration=model.best_iteration_)\n",
    "\n",
    "    # Calculate accuracy\n",
    "    accuracy = accuracy_score(y_val, y_pred)\n",
    "    accuracy_scores.append(accuracy)\n",
    "    print(f\"Fold accuracy: {accuracy:.4f}\")"
   ]
  },
  {
   "cell_type": "code",
   "execution_count": null,
   "metadata": {},
   "outputs": [
    {
     "name": "stdout",
     "output_type": "stream",
     "text": [
      "Mean cross-validated accuracy: 0.5909\n"
     ]
    }
   ],
   "source": [
    "# Average accuracy across folds\n",
    "mean_accuracy = np.mean(accuracy_scores)\n",
    "print(f\"Mean cross-validated accuracy: {mean_accuracy:.4f}\")"
   ]
  },
  {
   "cell_type": "code",
   "execution_count": null,
   "metadata": {},
   "outputs": [],
   "source": []
  }
 ],
 "metadata": {
  "kernelspec": {
   "display_name": "base",
   "language": "python",
   "name": "python3"
  },
  "language_info": {
   "codemirror_mode": {
    "name": "ipython",
    "version": 3
   },
   "file_extension": ".py",
   "mimetype": "text/x-python",
   "name": "python",
   "nbconvert_exporter": "python",
   "pygments_lexer": "ipython3",
   "version": "3.11.5"
  }
 },
 "nbformat": 4,
 "nbformat_minor": 2
}
